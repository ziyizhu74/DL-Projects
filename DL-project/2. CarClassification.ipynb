{
  "nbformat": 4,
  "nbformat_minor": 0,
  "metadata": {
    "colab": {
      "name": "Copy of proj2_car_classification_new.ipynb",
      "version": "0.3.2",
      "provenance": [],
      "collapsed_sections": [],
      "toc_visible": true
    },
    "kernelspec": {
      "name": "python3",
      "display_name": "Python 3"
    },
    "accelerator": "GPU"
  },
  "cells": [
    {
      "cell_type": "markdown",
      "metadata": {
        "id": "utcPLOa0Ot8r",
        "colab_type": "text"
      },
      "source": [
        "# 1.introduction\n",
        "\n",
        "This project is about car classification for [stanford car dataset](https://ai.stanford.edu/~jkrause/cars/car_dataset.html). The Cars dataset contains 16,185 images of 196 classes of cars. The data is split into 8,144 training images and 8,041 testing images, where each class has been split roughly in a 50-50 split. Classes are typically at the level of Make, Model, Year, e.g. 2012 Tesla Model S or 2012 BMW M3 coupe.\n",
        "\n",
        "It is difficult to directly train deep learning model on this dataset because the limited number of images. Thus we decide to use transfer learning, a common approch used in deep learning to utilize the pretrained model on [imagenet](http://www.image-net.org/) and fine-tune on our own dataset, i.e. car dataset.\n",
        "\n",
        "This project can show you how to train and fine-tune a deep learning model using keras (tensorflow backend).\n",
        "\n",
        "![](https://ai.stanford.edu/~jkrause/cars/class_montage.jpg)"
      ]
    },
    {
      "cell_type": "markdown",
      "metadata": {
        "id": "nXw-9h8vVtM-",
        "colab_type": "text"
      },
      "source": [
        "## 1.1 Transfer Learning\n",
        "Transfer learning is one of the most widely used technologies in deep learning and computer vision. If you are not familar with the concept of transfer learning, please refer to our course materials.\n",
        "\n",
        "![](https://cdn-images-1.medium.com/max/2000/1*9GTEzcO8KxxrfutmtsPs3Q.png)"
      ]
    },
    {
      "cell_type": "markdown",
      "metadata": {
        "id": "ppp_D6sdwNIJ",
        "colab_type": "text"
      },
      "source": [
        "# Note\n",
        "use the following keras version for fixed batch norm in transfer learning."
      ]
    },
    {
      "cell_type": "code",
      "metadata": {
        "id": "__hLsOwQwKvC",
        "colab_type": "code",
        "outputId": "fafa9ff1-6a77-4403-859a-5323af220d8b",
        "colab": {
          "base_uri": "https://localhost:8080/",
          "height": 277
        }
      },
      "source": [
        "!pip install -U --force-reinstall --no-dependencies  \\ git+https://github.com/datumbox/keras@bugfix/trainable_bn\n"
      ],
      "execution_count": 0,
      "outputs": [
        {
          "output_type": "stream",
          "text": [
            "Collecting git+https://github.com/datumbox/keras@bugfix/trainable_bn\n",
            "  Cloning https://github.com/datumbox/keras (to revision bugfix/trainable_bn) to /tmp/pip-req-build-16po3j2s\n",
            "  Running command git clone -q https://github.com/datumbox/keras /tmp/pip-req-build-16po3j2s\n",
            "  Running command git checkout -b bugfix/trainable_bn --track origin/bugfix/trainable_bn\n",
            "  Switched to a new branch 'bugfix/trainable_bn'\n",
            "  Branch 'bugfix/trainable_bn' set up to track remote branch 'bugfix/trainable_bn' from 'origin'.\n",
            "Building wheels for collected packages: Keras\n",
            "  Building wheel for Keras (setup.py) ... \u001b[?25l\u001b[?25hdone\n",
            "  Stored in directory: /tmp/pip-ephem-wheel-cache-94ihmiq9/wheels/36/5d/50/99c268bf64c1394c4f5b743164e4e515ab30290a523595ac47\n",
            "Successfully built Keras\n",
            "Installing collected packages: Keras\n",
            "  Found existing installation: Keras 2.2.4\n",
            "    Uninstalling Keras-2.2.4:\n",
            "      Successfully uninstalled Keras-2.2.4\n",
            "Successfully installed Keras-2.2.4\n"
          ],
          "name": "stdout"
        }
      ]
    },
    {
      "cell_type": "markdown",
      "metadata": {
        "id": "TQX6MYbnQswu",
        "colab_type": "text"
      },
      "source": [
        "# 2.Import & read data"
      ]
    },
    {
      "cell_type": "markdown",
      "metadata": {
        "id": "105nCy6QR3TK",
        "colab_type": "text"
      },
      "source": [
        "## 2.1 mount google drive to colab"
      ]
    },
    {
      "cell_type": "code",
      "metadata": {
        "id": "6JmF_9B0Mydy",
        "colab_type": "code",
        "outputId": "2fc946e1-70b7-4fdd-a65e-7b42f2a807e8",
        "colab": {
          "base_uri": "https://localhost:8080/",
          "height": 124
        }
      },
      "source": [
        "# mount goolge drive to colab\n",
        "from google.colab import drive\n",
        "drive.mount('/content/drive')"
      ],
      "execution_count": 0,
      "outputs": [
        {
          "output_type": "stream",
          "text": [
            "Go to this URL in a browser: https://accounts.google.com/o/oauth2/auth?client_id=947318989803-6bn6qk8qdgf4n4g3pfee6491hc0brc4i.apps.googleusercontent.com&redirect_uri=urn%3Aietf%3Awg%3Aoauth%3A2.0%3Aoob&scope=email%20https%3A%2F%2Fwww.googleapis.com%2Fauth%2Fdocs.test%20https%3A%2F%2Fwww.googleapis.com%2Fauth%2Fdrive%20https%3A%2F%2Fwww.googleapis.com%2Fauth%2Fdrive.photos.readonly%20https%3A%2F%2Fwww.googleapis.com%2Fauth%2Fpeopleapi.readonly&response_type=code\n",
            "\n",
            "Enter your authorization code:\n",
            "··········\n",
            "Mounted at /content/drive\n"
          ],
          "name": "stdout"
        }
      ]
    },
    {
      "cell_type": "markdown",
      "metadata": {
        "id": "by6UsW5wRBNm",
        "colab_type": "text"
      },
      "source": [
        "## 2.2 Copy file from google drive to colab"
      ]
    },
    {
      "cell_type": "code",
      "metadata": {
        "id": "Xv-aPfnir3Wd",
        "colab_type": "code",
        "colab": {}
      },
      "source": [
        "from tensorflow import gfile\n",
        "import os\n",
        "import zipfile\n",
        "import tarfile"
      ],
      "execution_count": 0,
      "outputs": []
    },
    {
      "cell_type": "code",
      "metadata": {
        "id": "sUjMUUXHX6yK",
        "colab_type": "code",
        "outputId": "2807155a-445a-4d3c-bce7-b6ce42e2c5e1",
        "colab": {
          "base_uri": "https://localhost:8080/",
          "height": 69
        }
      },
      "source": [
        "%%time\n",
        "if os.path.exists(\"drive/My Drive/car_dataset.tar\"):\n",
        "  gfile.Copy(\"drive/My Drive/car_dataset.tar\", \"./car_dataset.tar\", )\n",
        "print(os.listdir(\".\"))"
      ],
      "execution_count": 0,
      "outputs": [
        {
          "output_type": "stream",
          "text": [
            "['.config', 'autoencoder', 'drive', 'sample_data']\n",
            "CPU times: user 1.59 ms, sys: 0 ns, total: 1.59 ms\n",
            "Wall time: 2.44 ms\n"
          ],
          "name": "stdout"
        }
      ]
    },
    {
      "cell_type": "markdown",
      "metadata": {
        "id": "hwNfXQOvRRyy",
        "colab_type": "text"
      },
      "source": [
        "## 2.3 Extract dataset files"
      ]
    },
    {
      "cell_type": "code",
      "metadata": {
        "id": "vYckpehU4u8O",
        "colab_type": "code",
        "outputId": "8ab9045c-1558-4ada-a699-ffc8d59b6ede",
        "colab": {
          "base_uri": "https://localhost:8080/",
          "height": 52
        }
      },
      "source": [
        "%%time\n",
        "#with tarfile.open(\"./car_dataset.tar\", \"r\") as tar:\n",
        "    #tar.extractall(path=\".\")"
      ],
      "execution_count": 0,
      "outputs": [
        {
          "output_type": "stream",
          "text": [
            "CPU times: user 3 µs, sys: 0 ns, total: 3 µs\n",
            "Wall time: 8.11 µs\n"
          ],
          "name": "stdout"
        }
      ]
    },
    {
      "cell_type": "code",
      "metadata": {
        "id": "-hFcV9hR5h4T",
        "colab_type": "code",
        "colab": {}
      },
      "source": [
        "#print(os.listdir(\"./car_dataset\"))"
      ],
      "execution_count": 0,
      "outputs": []
    },
    {
      "cell_type": "markdown",
      "metadata": {
        "id": "gFh72b__R9Cd",
        "colab_type": "text"
      },
      "source": [
        "# 3.Build model"
      ]
    },
    {
      "cell_type": "markdown",
      "metadata": {
        "id": "zrbjT9XNSHaF",
        "colab_type": "text"
      },
      "source": [
        "## 3.1 Load packages\n",
        "\n",
        "The keras and tensorflow have been pre-installled on colab, and we do not need re-install these packages."
      ]
    },
    {
      "cell_type": "code",
      "metadata": {
        "id": "Ll778O7XWLN0",
        "colab_type": "code",
        "colab": {}
      },
      "source": [
        "from keras.preprocessing import image\n",
        "from keras.applications import vgg16\n",
        "from keras.applications import vgg19\n",
        "from keras.applications import resnet50\n",
        "from keras.applications import inception_v3\n",
        "from keras.layers import GlobalAveragePooling2D, Dense, Dropout, Flatten\n",
        "from keras.models import Model,Sequential\n",
        "from keras import optimizers\n",
        "from keras.callbacks import TensorBoard, ModelCheckpoint, EarlyStopping\n",
        "# import argparse\n",
        "from time import time\n",
        "\n",
        "from skimage import exposure, color\n",
        "\n",
        "from keras import backend as K\n",
        "K.set_image_dim_ordering('tf')"
      ],
      "execution_count": 0,
      "outputs": []
    },
    {
      "cell_type": "markdown",
      "metadata": {
        "id": "_BVSYj_zSuKP",
        "colab_type": "text"
      },
      "source": [
        "## 3.2 Initalize model\n",
        "In this step, we will initalize our architecture. We use predefined architectures such as resnet50/vgg19/inception, you can also use your own architectures."
      ]
    },
    {
      "cell_type": "code",
      "metadata": {
        "id": "RNb0uGI7uHxF",
        "colab_type": "code",
        "colab": {}
      },
      "source": [
        "def init_model(train_dir, val_dir, batch_size=32, model_name='resnet50', num_class=196, img_size=224):\n",
        "    \"\"\"\n",
        "    initialize cnn model and training and validation data generator\n",
        "    parms:\n",
        "        args: parsed commandline arguments\n",
        "    return:\n",
        "        model: initialized model\n",
        "        train_generator: training data generator\n",
        "        validation_generator: validation data generator\n",
        "    \"\"\"\n",
        "    \n",
        "\n",
        "    print('loading the model and the pre-trained weights...')\n",
        "\n",
        "    # load base model\n",
        "    if model_name == 'vgg19':\n",
        "        base_model = vgg19.VGG19(include_top=False, weights='imagenet', input_shape = (img_size, img_size, 3)) # need specify input_shape\n",
        "        # this preprocess_input is the default preprocess func for given network, you can change it or implement your own \n",
        "        # use inception_v3 preprocess for vgg16, it seems that it works better than vgg16.preprocess_input\n",
        "        preprocess_input = vgg19.preprocess_input\n",
        "\n",
        "    # initalize training image data generator\n",
        "    # you can also specify data augmentation here\n",
        "    train_datagen = image.ImageDataGenerator(\n",
        "        # width_shift_range=0.1,\n",
        "        # height_shift_range=0.1,\n",
        "        # samplewise_center=True,\n",
        "        # samplewise_std_normalization=True,\n",
        "        # rescale=1./255,\n",
        "        preprocessing_function=preprocess_input,\n",
        "        # rotation_range=30,\n",
        "        # shear_range=0.1,\n",
        "        # zoom_range=0.1,\n",
        "        # vertical_flip=True,\n",
        "        horizontal_flip=True\n",
        "        )\n",
        "\n",
        "    # initalize validation image data generator\n",
        "    # you can also specify data augmentation here\n",
        "    validation_datagen = image.ImageDataGenerator(\n",
        "        # samplewise_center=True,\n",
        "        # samplewise_std_normalization=True\n",
        "        # rescale=1./255\n",
        "        preprocessing_function=preprocess_input # preprocess_input\n",
        "        )\n",
        "\n",
        "    train_generator = train_datagen.flow_from_directory(\n",
        "        train_dir,\n",
        "        target_size=(img_size, img_size),\n",
        "        batch_size=batch_size,\n",
        "        class_mode='categorical')     \n",
        "\n",
        "    validation_generator = validation_datagen.flow_from_directory(\n",
        "        val_dir,\n",
        "        # color_mode='grayscale',  # 'rgb'\n",
        "        target_size=(img_size, img_size),\n",
        "        batch_size=batch_size,\n",
        "        class_mode='categorical')\n",
        "\n",
        "    # fix base_model layers\n",
        "    for layer in base_model.layers:\n",
        "        layer.trainable = False\n",
        "\n",
        "    # added some customized layers for your own data\n",
        "    x = base_model.output\n",
        "    if model_name == 'vgg19':\n",
        "        x = GlobalAveragePooling2D(name='avg_pool')(x)\n",
        "        # x = Flatten(name='flatten')(x)\n",
        "        # x = Dense(512, activation='relu', name='fc1-pretrain')(x)\n",
        "        x = Dense(256, activation='relu', name='fc2-pretrain')(x)\n",
        "        x = Dropout(0.3, name='dropout')(x)\n",
        "\n",
        "    # added softmax layer\n",
        "    predictions = Dense(num_class, activation='softmax', name='predictions')(x)\n",
        "\n",
        "    model = Model(inputs=base_model.input, outputs=predictions)\n",
        "    \n",
        "    sgd = optimizers.SGD(lr=0.01, decay=1e-6, momentum=0.9, nesterov=True)\n",
        "    adam = optimizers.Adam()\n",
        "    # model.compile(loss='mean_squared_error', optimizer=sgd)\n",
        "    model.compile(loss=\"categorical_crossentropy\", optimizer=adam, metrics=[\"accuracy\"])\n",
        "\n",
        "    return model, train_generator, validation_generator"
      ],
      "execution_count": 0,
      "outputs": []
    },
    {
      "cell_type": "markdown",
      "metadata": {
        "id": "GRiaN8q5TLNb",
        "colab_type": "text"
      },
      "source": [
        "## 3.3 train model\n",
        "This part defines the function to train our model. We can specify the training parameters such as number of epochs, optimizers, and etc here."
      ]
    },
    {
      "cell_type": "code",
      "metadata": {
        "id": "n_r-lCXKuXbB",
        "colab_type": "code",
        "colab": {}
      },
      "source": [
        "def train(model, train_generator, validation_generator, num_class=196, model_name='resnet50', batch_size=32, epochs=30, suffix='laioffer'):\n",
        "    \"\"\"\n",
        "    train the model\n",
        "    parms:\n",
        "        model: initialized model\n",
        "        train_generator: training data generator\n",
        "        validation_generator: validation data generator\n",
        "        args: parsed command line arguments\n",
        "    return:\n",
        "    \"\"\"\n",
        "    # define number of steps/iterators per epoch\n",
        "    stepsPerEpoch = train_generator.samples / batch_size\n",
        "    validationSteps= validation_generator.samples / batch_size\n",
        "\n",
        "    # save the snapshot of the model to local drive\n",
        "    pretrain_model_name = 'pretrained_{}_{}_{}_{}.h5'.format(model_name, num_class, epochs, suffix)\n",
        "    # visualize the training process\n",
        "    tensorboard = TensorBoard(log_dir=\"logs/{}_pretrain_{}\".format(model_name, time()), histogram_freq=0, write_graph=True)\n",
        "    checkpoint = ModelCheckpoint(pretrain_model_name, monitor='val_acc', verbose=1, save_best_only=True, save_weights_only=False, mode='auto', period=1)\n",
        "    earlystopping = EarlyStopping(monitor='acc', patience=5)\n",
        "    callbacks_list = [checkpoint, tensorboard, earlystopping]\n",
        "\n",
        "    history = model.fit_generator(\n",
        "        train_generator,\n",
        "        steps_per_epoch=stepsPerEpoch,\n",
        "        epochs=epochs,\n",
        "        callbacks = callbacks_list,\n",
        "        validation_data = validation_generator,\n",
        "        validation_steps=validationSteps)\n",
        "    return history"
      ],
      "execution_count": 0,
      "outputs": []
    },
    {
      "cell_type": "markdown",
      "metadata": {
        "id": "VffEttnvTo9r",
        "colab_type": "text"
      },
      "source": [
        "## 3.4 Fine-tune model\n",
        "This part defines the function to fine-tune the pre-trained model on our datset. If you do not have enough data, you may consider fine-tune less layers."
      ]
    },
    {
      "cell_type": "code",
      "metadata": {
        "id": "LSAFORczK7pU",
        "colab_type": "code",
        "colab": {}
      },
      "source": [
        " def fine_tune(model, train_generator, validation_generator, num_class=196, model_name='resnet50', batch_size=32, epochs=50, suffix='laioffer'):\n",
        "    \"\"\"\n",
        "    fine tune the model\n",
        "    parms:\n",
        "        model: initialized model\n",
        "        train_generator: training data generator\n",
        "        validation_generator: validation data generator\n",
        "        args: parsed command line arguments\n",
        "    return:\n",
        "    \"\"\"\n",
        "    # for specific architectures, define number of trainable layers\n",
        "    if model_name == 'vgg19':\n",
        "        trainable_layers = 6\n",
        "\n",
        "    for layer in model.layers[:-1*trainable_layers]:\n",
        "        layer.trainable = False\n",
        "\n",
        "    for layer in model.layers[-1*trainable_layers:]:\n",
        "        layer.trainable = True\n",
        "\n",
        "    finetune_model_name = 'finetuned_{}_{}_{}_{}.h5'.format(model_name, num_class, epochs, suffix)\n",
        "    tensorboard = TensorBoard(log_dir=\"logs/{}_finetune_{}\".format(model_name, time()), histogram_freq=0, write_graph=True)\n",
        "    checkpoint = ModelCheckpoint(finetune_model_name, monitor='val_acc', verbose=1, save_best_only=True, save_weights_only=False, mode='auto', period=1)\n",
        "    earlystopping = EarlyStopping(monitor='acc', patience=5)\n",
        "    callbacks_list = [checkpoint, tensorboard, earlystopping]\n",
        "\n",
        "    model.compile(loss=\"categorical_crossentropy\", optimizer=optimizers.SGD(lr=0.0001, momentum=0.9),metrics=[\"accuracy\"])\n",
        "\n",
        "    stepsPerEpoch = train_generator.samples / batch_size\n",
        "    validationSteps= validation_generator.samples / batch_size\n",
        "    history = model.fit_generator(\n",
        "        train_generator,\n",
        "        steps_per_epoch=stepsPerEpoch,\n",
        "        epochs=epochs,\n",
        "        callbacks = callbacks_list,\n",
        "        validation_data = validation_generator,\n",
        "        validation_steps=validationSteps)\n",
        "    return history"
      ],
      "execution_count": 0,
      "outputs": []
    },
    {
      "cell_type": "markdown",
      "metadata": {
        "id": "ZY8jM59qUxsk",
        "colab_type": "text"
      },
      "source": [
        "# 4.Experiment"
      ]
    },
    {
      "cell_type": "markdown",
      "metadata": {
        "id": "KlAM5CBAURLo",
        "colab_type": "text"
      },
      "source": [
        "## 4.1.Train/fine-tune model\n",
        "We can start to train and fine-tune our model here."
      ]
    },
    {
      "cell_type": "code",
      "metadata": {
        "id": "6Yvky52W4-ty",
        "colab_type": "code",
        "outputId": "3415e754-6819-4dcb-cd34-e9c407a6a38e",
        "colab": {
          "base_uri": "https://localhost:8080/",
          "height": 1000
        }
      },
      "source": [
        "# initialize model\n",
        "model, train_generator, validation_generator = init_model(train_dir='drive/My Drive/car_dataset/train', model_name='vgg19', val_dir='drive/My Drive/car_dataset/test', num_class=196)\n",
        "# pretrain model\n",
        "train(model, train_generator, validation_generator, num_class=196, model_name='vgg19', epochs=15)\n",
        "# fine-tune model\n",
        "history = fine_tune(model, train_generator, validation_generator, num_class=196, model_name='vgg19', epochs=30)"
      ],
      "execution_count": 0,
      "outputs": [
        {
          "output_type": "stream",
          "text": [
            "loading the model and the pre-trained weights...\n",
            "Found 8144 images belonging to 196 classes.\n"
          ],
          "name": "stdout"
        },
        {
          "output_type": "stream",
          "text": [
            "W0719 14:21:43.944603 139623120643968 deprecation.py:506] From /usr/local/lib/python3.6/dist-packages/keras/backend/tensorflow_backend.py:3445: calling dropout (from tensorflow.python.ops.nn_ops) with keep_prob is deprecated and will be removed in a future version.\n",
            "Instructions for updating:\n",
            "Please use `rate` instead of `keep_prob`. Rate should be set to `rate = 1 - keep_prob`.\n",
            "W0719 14:21:44.013168 139623120643968 deprecation_wrapper.py:119] From /usr/local/lib/python3.6/dist-packages/keras/optimizers.py:790: The name tf.train.Optimizer is deprecated. Please use tf.compat.v1.train.Optimizer instead.\n",
            "\n"
          ],
          "name": "stderr"
        },
        {
          "output_type": "stream",
          "text": [
            "Found 8041 images belonging to 196 classes.\n"
          ],
          "name": "stdout"
        },
        {
          "output_type": "stream",
          "text": [
            "W0719 14:21:45.009709 139623120643968 deprecation.py:323] From /usr/local/lib/python3.6/dist-packages/tensorflow/python/ops/math_grad.py:1250: add_dispatch_support.<locals>.wrapper (from tensorflow.python.ops.array_ops) is deprecated and will be removed in a future version.\n",
            "Instructions for updating:\n",
            "Use tf.where in 2.0, which has the same broadcast rule as np.where\n",
            "W0719 14:21:45.426988 139623120643968 deprecation_wrapper.py:119] From /usr/local/lib/python3.6/dist-packages/keras/callbacks.py:849: The name tf.summary.merge_all is deprecated. Please use tf.compat.v1.summary.merge_all instead.\n",
            "\n",
            "W0719 14:21:45.428694 139623120643968 deprecation_wrapper.py:119] From /usr/local/lib/python3.6/dist-packages/keras/callbacks.py:852: The name tf.summary.FileWriter is deprecated. Please use tf.compat.v1.summary.FileWriter instead.\n",
            "\n"
          ],
          "name": "stderr"
        },
        {
          "output_type": "stream",
          "text": [
            "Epoch 1/15\n",
            "255/254 [==============================] - 4401s 17s/step - loss: 5.5320 - acc: 0.0174 - val_loss: 4.8300 - val_acc: 0.0439\n",
            "\n",
            "Epoch 00001: val_acc improved from -inf to 0.04390, saving model to pretrained_vgg19_196_15_laioffer.h5\n",
            "Epoch 2/15\n",
            "255/254 [==============================] - 236s 924ms/step - loss: 4.5998 - acc: 0.0533 - val_loss: 4.1650 - val_acc: 0.0997\n",
            "\n",
            "Epoch 00002: val_acc improved from 0.04390 to 0.09974, saving model to pretrained_vgg19_196_15_laioffer.h5\n",
            "Epoch 3/15\n",
            "255/254 [==============================] - 237s 931ms/step - loss: 4.0213 - acc: 0.1069 - val_loss: 3.7141 - val_acc: 0.1507\n",
            "\n",
            "Epoch 00003: val_acc improved from 0.09974 to 0.15073, saving model to pretrained_vgg19_196_15_laioffer.h5\n",
            "Epoch 4/15\n",
            "255/254 [==============================] - 236s 927ms/step - loss: 3.6058 - acc: 0.1565 - val_loss: 3.3868 - val_acc: 0.1976\n",
            "\n",
            "Epoch 00004: val_acc improved from 0.15073 to 0.19761, saving model to pretrained_vgg19_196_15_laioffer.h5\n",
            "Epoch 5/15\n",
            "255/254 [==============================] - 237s 929ms/step - loss: 3.2977 - acc: 0.2091 - val_loss: 3.2331 - val_acc: 0.2263\n",
            "\n",
            "Epoch 00005: val_acc improved from 0.19761 to 0.22634, saving model to pretrained_vgg19_196_15_laioffer.h5\n",
            "Epoch 6/15\n",
            "255/254 [==============================] - 238s 932ms/step - loss: 3.0082 - acc: 0.2484 - val_loss: 3.0830 - val_acc: 0.2561\n",
            "\n",
            "Epoch 00006: val_acc improved from 0.22634 to 0.25606, saving model to pretrained_vgg19_196_15_laioffer.h5\n",
            "Epoch 7/15\n",
            "255/254 [==============================] - 237s 930ms/step - loss: 2.8038 - acc: 0.2888 - val_loss: 2.9900 - val_acc: 0.2725\n",
            "\n",
            "Epoch 00007: val_acc improved from 0.25606 to 0.27248, saving model to pretrained_vgg19_196_15_laioffer.h5\n",
            "Epoch 8/15\n",
            "255/254 [==============================] - 237s 931ms/step - loss: 2.6077 - acc: 0.3262 - val_loss: 2.9487 - val_acc: 0.2826\n",
            "\n",
            "Epoch 00008: val_acc improved from 0.27248 to 0.28255, saving model to pretrained_vgg19_196_15_laioffer.h5\n",
            "Epoch 9/15\n",
            "255/254 [==============================] - 237s 930ms/step - loss: 2.4268 - acc: 0.3576 - val_loss: 2.9767 - val_acc: 0.2768\n",
            "\n",
            "Epoch 00009: val_acc did not improve from 0.28255\n",
            "Epoch 10/15\n",
            "255/254 [==============================] - 237s 929ms/step - loss: 2.3122 - acc: 0.3787 - val_loss: 2.9158 - val_acc: 0.3057\n",
            "\n",
            "Epoch 00010: val_acc improved from 0.28255 to 0.30568, saving model to pretrained_vgg19_196_15_laioffer.h5\n",
            "Epoch 11/15\n",
            "255/254 [==============================] - 236s 925ms/step - loss: 2.1619 - acc: 0.4131 - val_loss: 2.9232 - val_acc: 0.3069\n",
            "\n",
            "Epoch 00011: val_acc improved from 0.30568 to 0.30693, saving model to pretrained_vgg19_196_15_laioffer.h5\n",
            "Epoch 12/15\n",
            "255/254 [==============================] - 238s 933ms/step - loss: 2.0572 - acc: 0.4409 - val_loss: 2.9242 - val_acc: 0.3066\n",
            "\n",
            "Epoch 00012: val_acc did not improve from 0.30693\n",
            "Epoch 13/15\n",
            "255/254 [==============================] - 239s 936ms/step - loss: 1.9727 - acc: 0.4613 - val_loss: 2.9037 - val_acc: 0.3194\n",
            "\n",
            "Epoch 00013: val_acc improved from 0.30693 to 0.31936, saving model to pretrained_vgg19_196_15_laioffer.h5\n",
            "Epoch 14/15\n",
            "255/254 [==============================] - 239s 935ms/step - loss: 1.8409 - acc: 0.4900 - val_loss: 3.0054 - val_acc: 0.3130\n",
            "\n",
            "Epoch 00014: val_acc did not improve from 0.31936\n",
            "Epoch 15/15\n",
            "255/254 [==============================] - 234s 919ms/step - loss: 1.7480 - acc: 0.5152 - val_loss: 2.9402 - val_acc: 0.3294\n",
            "\n",
            "Epoch 00015: val_acc improved from 0.31936 to 0.32944, saving model to pretrained_vgg19_196_15_laioffer.h5\n",
            "Epoch 1/30\n",
            "255/254 [==============================] - 242s 950ms/step - loss: 1.5145 - acc: 0.5701 - val_loss: 2.9014 - val_acc: 0.3519\n",
            "\n",
            "Epoch 00001: val_acc improved from -inf to 0.35195, saving model to finetuned_vgg19_196_30_laioffer.h5\n",
            "Epoch 2/30\n",
            "255/254 [==============================] - 240s 941ms/step - loss: 1.3620 - acc: 0.6042 - val_loss: 2.8076 - val_acc: 0.3672\n",
            "\n",
            "Epoch 00002: val_acc improved from 0.35195 to 0.36724, saving model to finetuned_vgg19_196_30_laioffer.h5\n",
            "Epoch 3/30\n",
            "255/254 [==============================] - 237s 931ms/step - loss: 1.2791 - acc: 0.6243 - val_loss: 2.7648 - val_acc: 0.3742\n",
            "\n",
            "Epoch 00003: val_acc improved from 0.36724 to 0.37421, saving model to finetuned_vgg19_196_30_laioffer.h5\n",
            "Epoch 4/30\n",
            "255/254 [==============================] - 236s 925ms/step - loss: 1.2184 - acc: 0.6385 - val_loss: 2.7182 - val_acc: 0.3904\n",
            "\n",
            "Epoch 00004: val_acc improved from 0.37421 to 0.39037, saving model to finetuned_vgg19_196_30_laioffer.h5\n",
            "Epoch 5/30\n",
            "255/254 [==============================] - 238s 932ms/step - loss: 1.1659 - acc: 0.6583 - val_loss: 2.6831 - val_acc: 0.3965\n",
            "\n",
            "Epoch 00005: val_acc improved from 0.39037 to 0.39647, saving model to finetuned_vgg19_196_30_laioffer.h5\n",
            "Epoch 6/30\n",
            "255/254 [==============================] - 237s 930ms/step - loss: 1.1150 - acc: 0.6678 - val_loss: 2.7478 - val_acc: 0.3970\n",
            "\n",
            "Epoch 00006: val_acc improved from 0.39647 to 0.39697, saving model to finetuned_vgg19_196_30_laioffer.h5\n",
            "Epoch 7/30\n",
            "255/254 [==============================] - 237s 931ms/step - loss: 1.0694 - acc: 0.6783 - val_loss: 2.6383 - val_acc: 0.4054\n",
            "\n",
            "Epoch 00007: val_acc improved from 0.39697 to 0.40542, saving model to finetuned_vgg19_196_30_laioffer.h5\n",
            "Epoch 8/30\n",
            "255/254 [==============================] - 236s 925ms/step - loss: 1.0422 - acc: 0.6835 - val_loss: 2.6497 - val_acc: 0.4087\n",
            "\n",
            "Epoch 00008: val_acc improved from 0.40542 to 0.40866, saving model to finetuned_vgg19_196_30_laioffer.h5\n",
            "Epoch 9/30\n",
            "255/254 [==============================] - 234s 916ms/step - loss: 0.9787 - acc: 0.6985 - val_loss: 2.7051 - val_acc: 0.4042\n",
            "\n",
            "Epoch 00009: val_acc did not improve from 0.40866\n",
            "Epoch 10/30\n",
            "255/254 [==============================] - 236s 925ms/step - loss: 0.9545 - acc: 0.7088 - val_loss: 2.6573 - val_acc: 0.4110\n",
            "\n",
            "Epoch 00010: val_acc improved from 0.40866 to 0.41102, saving model to finetuned_vgg19_196_30_laioffer.h5\n",
            "Epoch 11/30\n",
            "255/254 [==============================] - 238s 934ms/step - loss: 0.9311 - acc: 0.7219 - val_loss: 2.6343 - val_acc: 0.4215\n",
            "\n",
            "Epoch 00011: val_acc improved from 0.41102 to 0.42146, saving model to finetuned_vgg19_196_30_laioffer.h5\n",
            "Epoch 12/30\n",
            "255/254 [==============================] - 238s 933ms/step - loss: 0.8669 - acc: 0.7327 - val_loss: 2.6316 - val_acc: 0.4135\n",
            "\n",
            "Epoch 00012: val_acc did not improve from 0.42146\n",
            "Epoch 13/30\n",
            "255/254 [==============================] - 235s 923ms/step - loss: 0.8694 - acc: 0.7336 - val_loss: 2.6482 - val_acc: 0.4172\n",
            "\n",
            "Epoch 00013: val_acc did not improve from 0.42146\n",
            "Epoch 14/30\n",
            "255/254 [==============================] - 237s 930ms/step - loss: 0.8423 - acc: 0.7368 - val_loss: 2.5804 - val_acc: 0.4287\n",
            "\n",
            "Epoch 00014: val_acc improved from 0.42146 to 0.42868, saving model to finetuned_vgg19_196_30_laioffer.h5\n",
            "Epoch 15/30\n",
            "255/254 [==============================] - 237s 930ms/step - loss: 0.8110 - acc: 0.7512 - val_loss: 2.6194 - val_acc: 0.4243\n",
            "\n",
            "Epoch 00015: val_acc did not improve from 0.42868\n",
            "Epoch 16/30\n",
            "255/254 [==============================] - 238s 934ms/step - loss: 0.7850 - acc: 0.7560 - val_loss: 2.6202 - val_acc: 0.4217\n",
            "\n",
            "Epoch 00016: val_acc did not improve from 0.42868\n",
            "Epoch 17/30\n",
            "255/254 [==============================] - 240s 941ms/step - loss: 0.7867 - acc: 0.7627 - val_loss: 2.6256 - val_acc: 0.4240\n",
            "\n",
            "Epoch 00017: val_acc did not improve from 0.42868\n",
            "Epoch 18/30\n",
            "255/254 [==============================] - 240s 943ms/step - loss: 0.7486 - acc: 0.7679 - val_loss: 2.6242 - val_acc: 0.4330\n",
            "\n",
            "Epoch 00018: val_acc improved from 0.42868 to 0.43303, saving model to finetuned_vgg19_196_30_laioffer.h5\n",
            "Epoch 19/30\n",
            "255/254 [==============================] - 238s 933ms/step - loss: 0.7312 - acc: 0.7745 - val_loss: 2.5847 - val_acc: 0.4335\n",
            "\n",
            "Epoch 00019: val_acc improved from 0.43303 to 0.43353, saving model to finetuned_vgg19_196_30_laioffer.h5\n",
            "Epoch 20/30\n",
            "255/254 [==============================] - 236s 926ms/step - loss: 0.7017 - acc: 0.7790 - val_loss: 2.5876 - val_acc: 0.4351\n",
            "\n",
            "Epoch 00020: val_acc improved from 0.43353 to 0.43514, saving model to finetuned_vgg19_196_30_laioffer.h5\n",
            "Epoch 21/30\n",
            "255/254 [==============================] - 234s 916ms/step - loss: 0.6849 - acc: 0.7890 - val_loss: 2.5662 - val_acc: 0.4386\n",
            "\n",
            "Epoch 00021: val_acc improved from 0.43514 to 0.43863, saving model to finetuned_vgg19_196_30_laioffer.h5\n",
            "Epoch 22/30\n",
            "255/254 [==============================] - 237s 930ms/step - loss: 0.6865 - acc: 0.7881 - val_loss: 2.5982 - val_acc: 0.4371\n",
            "\n",
            "Epoch 00022: val_acc did not improve from 0.43863\n",
            "Epoch 23/30\n",
            "255/254 [==============================] - 236s 927ms/step - loss: 0.6561 - acc: 0.7929 - val_loss: 2.5946 - val_acc: 0.4370\n",
            "\n",
            "Epoch 00023: val_acc did not improve from 0.43863\n",
            "Epoch 24/30\n",
            "255/254 [==============================] - 235s 923ms/step - loss: 0.6310 - acc: 0.8096 - val_loss: 2.4949 - val_acc: 0.4493\n",
            "\n",
            "Epoch 00024: val_acc improved from 0.43863 to 0.44932, saving model to finetuned_vgg19_196_30_laioffer.h5\n",
            "Epoch 25/30\n",
            "255/254 [==============================] - 236s 924ms/step - loss: 0.6317 - acc: 0.8032 - val_loss: 2.5766 - val_acc: 0.4467\n",
            "\n",
            "Epoch 00025: val_acc did not improve from 0.44932\n",
            "Epoch 26/30\n",
            "255/254 [==============================] - 236s 927ms/step - loss: 0.6145 - acc: 0.8105 - val_loss: 2.6220 - val_acc: 0.4439\n",
            "\n",
            "Epoch 00026: val_acc did not improve from 0.44932\n",
            "Epoch 27/30\n",
            "255/254 [==============================] - 237s 931ms/step - loss: 0.5879 - acc: 0.8184 - val_loss: 2.5613 - val_acc: 0.4518\n",
            "\n",
            "Epoch 00027: val_acc improved from 0.44932 to 0.45181, saving model to finetuned_vgg19_196_30_laioffer.h5\n",
            "Epoch 28/30\n",
            "255/254 [==============================] - 238s 935ms/step - loss: 0.5677 - acc: 0.8241 - val_loss: 2.5980 - val_acc: 0.4488\n",
            "\n",
            "Epoch 00028: val_acc did not improve from 0.45181\n",
            "Epoch 29/30\n",
            "255/254 [==============================] - 238s 933ms/step - loss: 0.5637 - acc: 0.8217 - val_loss: 2.6340 - val_acc: 0.4440\n",
            "\n",
            "Epoch 00029: val_acc did not improve from 0.45181\n",
            "Epoch 30/30\n",
            "255/254 [==============================] - 236s 926ms/step - loss: 0.5582 - acc: 0.8257 - val_loss: 2.5750 - val_acc: 0.4533\n",
            "\n",
            "Epoch 00030: val_acc improved from 0.45181 to 0.45330, saving model to finetuned_vgg19_196_30_laioffer.h5\n"
          ],
          "name": "stdout"
        }
      ]
    },
    {
      "cell_type": "markdown",
      "metadata": {
        "id": "l0uHDz3RU4hL",
        "colab_type": "text"
      },
      "source": [
        "## 4.2 Results"
      ]
    },
    {
      "cell_type": "markdown",
      "metadata": {
        "id": "BVgX3x9OU_Cx",
        "colab_type": "text"
      },
      "source": [
        "### 4.2.1 Accuracy"
      ]
    },
    {
      "cell_type": "code",
      "metadata": {
        "id": "EUB8kGALi6BA",
        "colab_type": "code",
        "outputId": "cbc5bd87-9379-4a21-e873-015c47895dc8",
        "colab": {
          "base_uri": "https://localhost:8080/",
          "height": 52
        }
      },
      "source": [
        "scores = model.evaluate_generator(validation_generator, verbose=1,steps=len(validation_generator))\n",
        "print(\"Validation accuracy = \", scores[1])"
      ],
      "execution_count": 0,
      "outputs": [
        {
          "output_type": "stream",
          "text": [
            "252/252 [==============================] - 127s 503ms/step\n",
            "Validation accuracy =  0.4536749160774548\n"
          ],
          "name": "stdout"
        }
      ]
    },
    {
      "cell_type": "markdown",
      "metadata": {
        "id": "AxZag8jYVCs-",
        "colab_type": "text"
      },
      "source": [
        "### 4.2.2 Classification report"
      ]
    },
    {
      "cell_type": "code",
      "metadata": {
        "id": "2z7cWMXkXCxX",
        "colab_type": "code",
        "outputId": "36e4b892-ddf0-48d4-a885-1dc44ea45b36",
        "colab": {
          "base_uri": "https://localhost:8080/",
          "height": 52
        }
      },
      "source": [
        "import numpy as np\n",
        "# predicted_label_probs = model.predict_generator(validation_generator, verbose=1)\n",
        "# predicted_labels = np.argmax(predicted_label_probs, axis=1)\n",
        "\n",
        "from sklearn.metrics import confusion_matrix, classification_report, accuracy_score\n",
        "\n",
        "test_datagen = image.ImageDataGenerator(\n",
        "    preprocessing_function=vgg19.preprocess_input # preprocess_input\n",
        "    )\n",
        "\n",
        "test_generator = test_datagen.flow_from_directory(\n",
        "    \"drive/My Drive/car_dataset/test\",\n",
        "    target_size=(224, 224),\n",
        "    batch_size=1,\n",
        "    shuffle=False,    # keep data in same order as labels\n",
        "    class_mode='categorical')# only data, no labels\n",
        "\n",
        "true_labels = test_generator.classes\n",
        "\n",
        "predicted_label_probs = model.predict_generator(test_generator, verbose=1,steps=len(test_generator))\n",
        "predicted_labels = np.argmax(predicted_label_probs, axis=1)\n",
        "# predicted_labels "
      ],
      "execution_count": 0,
      "outputs": [
        {
          "output_type": "stream",
          "text": [
            "Found 8041 images belonging to 196 classes.\n",
            "8041/8041 [==============================] - 252s 31ms/step\n"
          ],
          "name": "stdout"
        }
      ]
    },
    {
      "cell_type": "code",
      "metadata": {
        "id": "H09JCU4mmtaQ",
        "colab_type": "code",
        "colab": {}
      },
      "source": [
        "label_map = (test_generator.class_indices)\n",
        "# label_map"
      ],
      "execution_count": 0,
      "outputs": []
    },
    {
      "cell_type": "code",
      "metadata": {
        "id": "hN4lazy-XO8N",
        "colab_type": "code",
        "outputId": "316475d5-fa22-45e4-e8b9-fa746b8955d2",
        "colab": {
          "base_uri": "https://localhost:8080/",
          "height": 1000
        }
      },
      "source": [
        "# print(confusion_matrix(true_labels, predicted_labels))\n",
        "print(classification_report(true_labels, predicted_labels))\n",
        "# print(\"Accuracy = \", accuracy_score(true_labels, predicted_labels))"
      ],
      "execution_count": 0,
      "outputs": [
        {
          "output_type": "stream",
          "text": [
            "              precision    recall  f1-score   support\n",
            "\n",
            "           0       0.82      0.82      0.82        44\n",
            "           1       0.19      0.18      0.18        33\n",
            "           2       0.64      0.55      0.59        33\n",
            "           3       0.68      0.60      0.63        42\n",
            "           4       0.51      0.56      0.54        39\n",
            "           5       0.53      0.51      0.52        39\n",
            "           6       0.50      0.60      0.54        42\n",
            "           7       0.47      0.51      0.49        43\n",
            "           8       0.75      0.73      0.74        41\n",
            "           9       0.24      0.30      0.26        44\n",
            "          10       0.64      0.64      0.64        44\n",
            "          11       0.53      0.64      0.58        44\n",
            "          12       0.54      0.68      0.60        38\n",
            "          13       0.40      0.44      0.42        43\n",
            "          14       0.38      0.52      0.44        42\n",
            "          15       0.41      0.38      0.40        45\n",
            "          16       0.65      0.40      0.50        42\n",
            "          17       0.45      0.44      0.45        45\n",
            "          18       0.41      0.38      0.40        45\n",
            "          19       0.57      0.78      0.66        37\n",
            "          20       0.52      0.26      0.35        42\n",
            "          21       0.60      0.73      0.66        41\n",
            "          22       0.55      0.60      0.58        68\n",
            "          23       0.50      0.58      0.54        36\n",
            "          24       0.71      0.57      0.63        42\n",
            "          25       0.47      0.32      0.38        44\n",
            "          26       0.39      0.33      0.36        40\n",
            "          27       0.79      0.75      0.77        44\n",
            "          28       0.53      0.51      0.52        39\n",
            "          29       0.55      0.63      0.59        43\n",
            "          30       0.50      0.29      0.36        42\n",
            "          31       0.57      0.68      0.62        41\n",
            "          32       0.36      0.23      0.28        39\n",
            "          33       0.21      0.13      0.16        38\n",
            "          34       0.34      0.39      0.36        41\n",
            "          35       0.43      0.46      0.45        41\n",
            "          36       0.58      0.60      0.59        42\n",
            "          37       0.80      0.56      0.66        43\n",
            "          38       0.22      0.26      0.24        42\n",
            "          39       0.50      0.58      0.54        33\n",
            "          40       0.39      0.33      0.36        42\n",
            "          41       0.33      0.04      0.07        24\n",
            "          42       0.24      0.42      0.31        43\n",
            "          43       0.50      0.62      0.55        39\n",
            "          44       0.16      0.21      0.19        42\n",
            "          45       0.36      0.38      0.37        42\n",
            "          46       0.42      0.31      0.36        42\n",
            "          47       0.29      0.26      0.28        34\n",
            "          48       0.81      0.69      0.75        32\n",
            "          49       0.44      0.53      0.48        40\n",
            "          50       0.41      0.30      0.35        46\n",
            "          51       0.57      0.52      0.55        44\n",
            "          52       0.74      0.91      0.81        43\n",
            "          53       0.55      0.50      0.52        44\n",
            "          54       0.35      0.33      0.34        45\n",
            "          55       0.66      0.50      0.57        42\n",
            "          56       0.34      0.58      0.43        43\n",
            "          57       0.64      0.75      0.69        36\n",
            "          58       0.45      0.56      0.50        43\n",
            "          59       0.92      0.69      0.79        35\n",
            "          60       0.54      0.77      0.64        44\n",
            "          61       0.71      0.76      0.74        42\n",
            "          62       0.67      0.57      0.62        42\n",
            "          63       0.80      0.41      0.54        39\n",
            "          64       0.57      0.69      0.62        36\n",
            "          65       0.47      0.31      0.38        29\n",
            "          66       0.38      0.42      0.40        36\n",
            "          67       0.34      0.40      0.37        43\n",
            "          68       0.56      0.61      0.59        44\n",
            "          69       0.38      0.42      0.40        48\n",
            "          70       0.39      0.36      0.37        45\n",
            "          71       0.37      0.44      0.41        36\n",
            "          72       0.21      0.26      0.23        43\n",
            "          73       0.48      0.52      0.50        44\n",
            "          74       0.53      0.63      0.58        41\n",
            "          75       0.12      0.17      0.14        47\n",
            "          76       0.88      0.67      0.76        42\n",
            "          77       0.77      0.63      0.70        38\n",
            "          78       0.44      0.55      0.49        40\n",
            "          79       0.42      0.52      0.46        44\n",
            "          80       0.49      0.54      0.52        46\n",
            "          81       0.63      0.50      0.56        44\n",
            "          82       0.19      0.14      0.16        43\n",
            "          83       0.53      0.49      0.51        41\n",
            "          84       0.50      0.47      0.48        30\n",
            "          85       0.54      0.50      0.52        38\n",
            "          86       0.54      0.61      0.57        44\n",
            "          87       0.31      0.44      0.36        41\n",
            "          88       0.61      0.56      0.58        45\n",
            "          89       0.42      0.57      0.48        42\n",
            "          90       0.48      0.50      0.49        42\n",
            "          91       0.29      0.50      0.37        38\n",
            "          92       0.23      0.28      0.25        46\n",
            "          93       0.30      0.33      0.31        42\n",
            "          94       0.13      0.12      0.13        40\n",
            "          95       0.40      0.21      0.28        38\n",
            "          96       0.53      0.50      0.51        38\n",
            "          97       0.30      0.33      0.31        43\n",
            "          98       0.24      0.30      0.27        43\n",
            "          99       0.62      0.65      0.63        40\n",
            "         100       0.38      0.38      0.38        40\n",
            "         101       0.29      0.40      0.33        43\n",
            "         102       0.54      0.83      0.66        46\n",
            "         103       0.72      0.50      0.59        42\n",
            "         104       0.32      0.29      0.31        41\n",
            "         105       0.78      0.71      0.74        45\n",
            "         106       0.47      0.53      0.50        43\n",
            "         107       0.75      0.75      0.75        40\n",
            "         108       0.11      0.12      0.12        32\n",
            "         109       0.44      0.46      0.45        46\n",
            "         110       0.68      0.45      0.54        42\n",
            "         111       0.26      0.17      0.20        42\n",
            "         112       0.33      0.13      0.19        39\n",
            "         113       0.26      0.42      0.32        45\n",
            "         114       0.55      0.31      0.39        39\n",
            "         115       0.37      0.38      0.38        34\n",
            "         116       0.46      0.49      0.47        35\n",
            "         117       0.42      0.34      0.38        41\n",
            "         118       0.17      0.10      0.12        42\n",
            "         119       0.53      0.44      0.48        43\n",
            "         120       0.40      0.56      0.47        41\n",
            "         121       0.29      0.25      0.27        44\n",
            "         122       0.41      0.46      0.44        41\n",
            "         123       0.49      0.45      0.47        42\n",
            "         124       0.31      0.41      0.35        44\n",
            "         125       0.15      0.12      0.13        41\n",
            "         126       0.21      0.15      0.17        41\n",
            "         127       0.38      0.42      0.40        38\n",
            "         128       0.35      0.33      0.34        40\n",
            "         129       0.51      0.56      0.53        36\n",
            "         130       0.26      0.31      0.28        42\n",
            "         131       0.53      0.46      0.49        39\n",
            "         132       0.53      0.54      0.54        35\n",
            "         133       0.43      0.38      0.41        34\n",
            "         134       0.43      0.41      0.42        46\n",
            "         135       0.35      0.32      0.33        44\n",
            "         136       0.44      0.38      0.41        32\n",
            "         137       0.50      0.58      0.54        43\n",
            "         138       0.48      0.31      0.38        35\n",
            "         139       0.53      0.40      0.46        42\n",
            "         140       0.62      0.43      0.51        37\n",
            "         141       0.34      0.40      0.37        40\n",
            "         142       0.61      0.45      0.52        42\n",
            "         143       0.55      0.49      0.52        43\n",
            "         144       0.53      0.41      0.47        41\n",
            "         145       0.52      0.39      0.44        44\n",
            "         146       0.33      0.38      0.35        40\n",
            "         147       0.43      0.51      0.47        39\n",
            "         148       0.42      0.41      0.42        46\n",
            "         149       0.54      0.73      0.62        37\n",
            "         150       0.31      0.23      0.26        44\n",
            "         151       0.57      0.59      0.58        44\n",
            "         152       0.36      0.45      0.40        44\n",
            "         153       0.78      0.86      0.82        36\n",
            "         154       0.20      0.16      0.18        43\n",
            "         155       0.52      0.43      0.47        37\n",
            "         156       0.50      0.32      0.39        44\n",
            "         157       0.38      0.34      0.36        29\n",
            "         158       0.39      0.27      0.32        45\n",
            "         159       0.29      0.32      0.30        41\n",
            "         160       0.36      0.24      0.29        38\n",
            "         161       0.55      0.53      0.54        40\n",
            "         162       0.46      0.50      0.48        38\n",
            "         163       0.37      0.36      0.36        39\n",
            "         164       0.56      0.67      0.61        42\n",
            "         165       0.34      0.37      0.36        35\n",
            "         166       0.36      0.31      0.33        45\n",
            "         167       0.15      0.11      0.13        44\n",
            "         168       0.37      0.42      0.39        43\n",
            "         169       0.46      0.27      0.34        44\n",
            "         170       0.33      0.42      0.37        43\n",
            "         171       0.44      0.35      0.39        40\n",
            "         172       0.51      0.57      0.54        37\n",
            "         173       0.45      0.42      0.43        48\n",
            "         174       0.33      0.29      0.31        45\n",
            "         175       0.60      0.56      0.58        43\n",
            "         176       0.83      0.67      0.74        45\n",
            "         177       0.44      0.49      0.46        45\n",
            "         178       0.29      0.25      0.27        40\n",
            "         179       0.63      0.45      0.53        42\n",
            "         180       0.74      0.60      0.67        43\n",
            "         181       0.59      0.38      0.46        42\n",
            "         182       0.41      0.41      0.41        44\n",
            "         183       0.46      0.44      0.45        39\n",
            "         184       0.61      0.64      0.62        44\n",
            "         185       0.33      0.44      0.38        41\n",
            "         186       0.42      0.24      0.31        41\n",
            "         187       0.30      0.68      0.41        38\n",
            "         188       0.54      0.65      0.59        40\n",
            "         189       0.67      0.41      0.51        39\n",
            "         190       0.54      0.33      0.41        43\n",
            "         191       0.41      0.38      0.40        45\n",
            "         192       0.28      0.41      0.33        41\n",
            "         193       0.38      0.50      0.43        42\n",
            "         194       0.43      0.43      0.43        46\n",
            "         195       0.71      0.81      0.76        27\n",
            "\n",
            "    accuracy                           0.45      8041\n",
            "   macro avg       0.46      0.45      0.45      8041\n",
            "weighted avg       0.46      0.45      0.45      8041\n",
            "\n"
          ],
          "name": "stdout"
        }
      ]
    },
    {
      "cell_type": "markdown",
      "metadata": {
        "id": "WhtfZiYjVK3B",
        "colab_type": "text"
      },
      "source": [
        "### 4.2.3 Visualize confusion matrix"
      ]
    },
    {
      "cell_type": "code",
      "metadata": {
        "id": "EhGxyv1r-mab",
        "colab_type": "code",
        "colab": {}
      },
      "source": [
        "import matplotlib.pyplot as plt\n",
        "import itertools\n",
        "\n",
        "def plot_confusion_matrix(cm, classes,\n",
        "                          normalize=False,\n",
        "                          title='Confusion matrix',\n",
        "                          cmap=plt.cm.Blues):\n",
        "    \"\"\"\n",
        "    This function prints and plots the confusion matrix.\n",
        "    Normalization can be applied by setting `normalize=True`.\n",
        "    \"\"\"\n",
        "    if normalize:\n",
        "        cm = cm.astype('float') / cm.sum(axis=1)[:, np.newaxis]\n",
        "        print(\"Normalized confusion matrix\")\n",
        "    else:\n",
        "        print('Confusion matrix, without normalization')\n",
        "\n",
        "    print(cm)\n",
        "\n",
        "    plt.imshow(cm, interpolation='nearest', cmap=cmap)\n",
        "    plt.title(title)\n",
        "    plt.colorbar()\n",
        "    tick_marks = np.arange(len(classes))\n",
        "    plt.xticks(tick_marks, classes, rotation=45)\n",
        "    plt.yticks(tick_marks, classes)\n",
        "\n",
        "    fmt = '.2f' if normalize else 'd'\n",
        "    thresh = cm.max() / 2.\n",
        "    for i, j in itertools.product(range(cm.shape[0]), range(cm.shape[1])):\n",
        "        plt.text(j, i, format(cm[i, j], fmt),\n",
        "                 horizontalalignment=\"center\",\n",
        "                 color=\"white\" if cm[i, j] > thresh else \"black\")\n",
        "\n",
        "    plt.ylabel('True label')\n",
        "    plt.xlabel('Predicted label')\n",
        "    plt.tight_layout()"
      ],
      "execution_count": 0,
      "outputs": []
    },
    {
      "cell_type": "code",
      "metadata": {
        "id": "Ar4Srlj2-ndE",
        "colab_type": "code",
        "outputId": "42158330-6209-4d9b-d6ef-b38626aa6866",
        "colab": {
          "base_uri": "https://localhost:8080/",
          "height": 661
        }
      },
      "source": [
        "cnf_matrix = confusion_matrix(true_labels, predicted_labels)\n",
        "#Plot non-normalized confusion matrix\n",
        "#plt.figure()\n",
        "#plot_confusion_matrix(cnf_matrix, classes=list(label_map.keys()),\n",
        "#                      title='Confusion matrix, without normalization')\n",
        "\n",
        "#Plot normalized confusion matrix\n",
        "plt.figure()\n",
        "plot_confusion_matrix(cnf_matrix[:10,:10], classes=list(label_map.keys())[:10], normalize=True,\n",
        "                      title='Normalized confusion matrix')\n",
        "\n",
        "plt.show()"
      ],
      "execution_count": 0,
      "outputs": [
        {
          "output_type": "stream",
          "text": [
            "Normalized confusion matrix\n",
            "[[1.         0.         0.         0.         0.         0.\n",
            "  0.         0.         0.         0.        ]\n",
            " [0.         1.         0.         0.         0.         0.\n",
            "  0.         0.         0.         0.        ]\n",
            " [0.         0.         0.94736842 0.         0.         0.05263158\n",
            "  0.         0.         0.         0.        ]\n",
            " [0.         0.         0.         0.80645161 0.03225806 0.\n",
            "  0.06451613 0.06451613 0.         0.03225806]\n",
            " [0.         0.         0.         0.         0.78571429 0.14285714\n",
            "  0.07142857 0.         0.         0.        ]\n",
            " [0.         0.         0.         0.         0.12903226 0.64516129\n",
            "  0.22580645 0.         0.         0.        ]\n",
            " [0.         0.         0.         0.         0.06666667 0.1\n",
            "  0.83333333 0.         0.         0.        ]\n",
            " [0.         0.         0.         0.         0.         0.\n",
            "  0.         1.         0.         0.        ]\n",
            " [0.         0.         0.         0.         0.         0.\n",
            "  0.         0.         1.         0.        ]\n",
            " [0.         0.         0.         0.         0.         0.\n",
            "  0.         0.         0.         1.        ]]\n"
          ],
          "name": "stdout"
        },
        {
          "output_type": "display_data",
          "data": {
            "image/png": "[encoded data removed]",
            "text/plain": [
              "<Figure size 432x288 with 2 Axes>"
            ]
          },
          "metadata": {
            "tags": []
          }
        }
      ]
    },
    {
      "cell_type": "markdown",
      "metadata": {
        "id": "xAp1JtpS-7cT",
        "colab_type": "text"
      },
      "source": [
        "### 4.2.4 Visualize training history"
      ]
    },
    {
      "cell_type": "code",
      "metadata": {
        "id": "57aWJ0xkCofu",
        "colab_type": "code",
        "colab": {}
      },
      "source": [
        "def plot_history(history):\n",
        "    loss_list = [s for s in history.history.keys() if 'loss' in s and 'val' not in s]\n",
        "    val_loss_list = [s for s in history.history.keys() if 'loss' in s and 'val' in s]\n",
        "    acc_list = [s for s in history.history.keys() if 'acc' in s and 'val' not in s]\n",
        "    val_acc_list = [s for s in history.history.keys() if 'acc' in s and 'val' in s]\n",
        "    \n",
        "    if len(loss_list) == 0:\n",
        "        print('Loss is missing in history')\n",
        "        return \n",
        "    \n",
        "    ## As loss always exists\n",
        "    epochs = range(1,len(history.history[loss_list[0]]) + 1)\n",
        "    \n",
        "    ## Loss\n",
        "    plt.figure(1)\n",
        "    for l in loss_list:\n",
        "        plt.plot(epochs, history.history[l], 'b', label='Training loss (' + str(str(format(history.history[l][-1],'.5f'))+')'))\n",
        "    for l in val_loss_list:\n",
        "        plt.plot(epochs, history.history[l], 'g', label='Validation loss (' + str(str(format(history.history[l][-1],'.5f'))+')'))\n",
        "    \n",
        "    plt.title('Loss')\n",
        "    plt.xlabel('Epochs')\n",
        "    plt.ylabel('Loss')\n",
        "    plt.legend()\n",
        "    \n",
        "    ## Accuracy\n",
        "    plt.figure(2)\n",
        "    for l in acc_list:\n",
        "        plt.plot(epochs, history.history[l], 'b', label='Training accuracy (' + str(format(history.history[l][-1],'.5f'))+')')\n",
        "    for l in val_acc_list:    \n",
        "        plt.plot(epochs, history.history[l], 'g', label='Validation accuracy (' + str(format(history.history[l][-1],'.5f'))+')')\n",
        "\n",
        "    plt.title('Accuracy')\n",
        "    plt.xlabel('Epochs')\n",
        "    plt.ylabel('Accuracy')\n",
        "    plt.legend()\n",
        "    plt.show()"
      ],
      "execution_count": 0,
      "outputs": []
    },
    {
      "cell_type": "code",
      "metadata": {
        "id": "4Ut9-hyVqL8S",
        "colab_type": "code",
        "outputId": "1747865b-e04a-4f52-a8e3-c94fb4ba43af",
        "colab": {
          "base_uri": "https://localhost:8080/",
          "height": 573
        }
      },
      "source": [
        "plot_history(history)"
      ],
      "execution_count": 0,
      "outputs": [
        {
          "output_type": "display_data",
          "data": {
            "image/png": "[encoded data removed]",
            "text/plain": [
              "<Figure size 432x288 with 1 Axes>"
            ]
          },
          "metadata": {
            "tags": []
          }
        },
        {
          "output_type": "display_data",
          "data": {
            "image/png": "[encoded data removed]",
            "text/plain": [
              "<Figure size 432x288 with 1 Axes>"
            ]
          },
          "metadata": {
            "tags": []
          }
        }
      ]
    },
    {
      "cell_type": "code",
      "metadata": {
        "id": "IW71-SVwCLKI",
        "colab_type": "code",
        "outputId": "a7de2574-f509-48ec-84d9-6c1a64856904",
        "colab": {
          "base_uri": "https://localhost:8080/",
          "height": 417
        }
      },
      "source": [
        "from sklearn.metrics import recall_score, classification_report, auc, roc_curve\n",
        "cm = confusion_matrix(true_labels, predicted_labels)\n",
        "print(cm)\n",
        "\n",
        "\n",
        "plt.plot(history.history['acc'])\n",
        "plt.plot(history.history['val_acc'])\n",
        "plt.title('Model accuracy')\n",
        "plt.ylabel('Accuracy')\n",
        "plt.xlabel('Epoch')\n",
        "plt.legend(['Train', 'Test'], loc='upper left')\n",
        "plt.show()"
      ],
      "execution_count": 0,
      "outputs": [
        {
          "output_type": "stream",
          "text": [
            "[[36  0  0 ...  0  0  0]\n",
            " [ 0  6  0 ...  0  0  0]\n",
            " [ 0  0 18 ...  0  0  0]\n",
            " ...\n",
            " [ 0  0  0 ... 21  0  0]\n",
            " [ 0  0  0 ...  1 20  0]\n",
            " [ 0  0  0 ...  0  0 22]]\n"
          ],
          "name": "stdout"
        },
        {
          "output_type": "display_data",
          "data": {
            "image/png": "[encoded data removed]",
            "text/plain": [
              "<Figure size 432x288 with 1 Axes>"
            ]
          },
          "metadata": {
            "tags": []
          }
        }
      ]
    },
    {
      "cell_type": "code",
      "metadata": {
        "id": "FJUTP4WzFExR",
        "colab_type": "code",
        "outputId": "f9d8fd4e-1fc9-48db-e9e6-2e521de415e0",
        "colab": {
          "base_uri": "https://localhost:8080/",
          "height": 35
        }
      },
      "source": [
        "predicted_labels"
      ],
      "execution_count": 0,
      "outputs": [
        {
          "output_type": "execute_result",
          "data": {
            "text/plain": [
              "array([  0,   0,   0, ..., 195, 195,  56])"
            ]
          },
          "metadata": {
            "tags": []
          },
          "execution_count": 42
        }
      ]
    },
    {
      "cell_type": "markdown",
      "metadata": {
        "id": "cAaA7xwXVT_S",
        "colab_type": "text"
      },
      "source": [
        "### 4.2.5 Save model"
      ]
    },
    {
      "cell_type": "code",
      "metadata": {
        "id": "jsdd0tOfZX7X",
        "colab_type": "code",
        "colab": {}
      },
      "source": [
        "model.save(\"model.h5\")"
      ],
      "execution_count": 0,
      "outputs": []
    },
    {
      "cell_type": "markdown",
      "metadata": {
        "id": "oZ1V3wTWVXz1",
        "colab_type": "text"
      },
      "source": [
        "### 4.2.6 Load model"
      ]
    },
    {
      "cell_type": "code",
      "metadata": {
        "id": "Wv2bP9CPflz1",
        "colab_type": "code",
        "colab": {}
      },
      "source": [
        "from keras.models import load_model\n",
        "new_model = load_model(\"model.h5\")"
      ],
      "execution_count": 0,
      "outputs": []
    },
    {
      "cell_type": "code",
      "metadata": {
        "id": "ItR6f9WFft7t",
        "colab_type": "code",
        "outputId": "e4834207-e418-4977-a5ee-b8eeaf650211",
        "colab": {
          "base_uri": "https://localhost:8080/",
          "height": 35
        }
      },
      "source": [
        "new_predicted_label_probs = new_model.predict_generator(test_generator, verbose=1,steps=len(test_generator))\n",
        "new_predicted_labels = np.argmax(new_predicted_label_probs, axis=1)"
      ],
      "execution_count": 0,
      "outputs": [
        {
          "output_type": "stream",
          "text": [
            "8041/8041 [==============================] - 252s 31ms/step\n"
          ],
          "name": "stdout"
        }
      ]
    },
    {
      "cell_type": "code",
      "metadata": {
        "id": "9XsK2BZCf_77",
        "colab_type": "code",
        "outputId": "3be1acca-394c-496a-f746-0aff31c53580",
        "colab": {
          "base_uri": "https://localhost:8080/",
          "height": 1000
        }
      },
      "source": [
        "print(confusion_matrix(true_labels, predicted_labels))\n",
        "print(classification_report(true_labels, predicted_labels))\n",
        "print(\"Accuracy = \", accuracy_score(true_labels, predicted_labels))"
      ],
      "execution_count": 0,
      "outputs": [
        {
          "output_type": "stream",
          "text": [
            "[[36  0  0 ...  0  0  0]\n",
            " [ 0  6  0 ...  0  0  0]\n",
            " [ 0  0 18 ...  0  0  0]\n",
            " ...\n",
            " [ 0  0  0 ... 21  0  0]\n",
            " [ 0  0  0 ...  1 20  0]\n",
            " [ 0  0  0 ...  0  0 22]]\n",
            "              precision    recall  f1-score   support\n",
            "\n",
            "           0       0.82      0.82      0.82        44\n",
            "           1       0.19      0.18      0.18        33\n",
            "           2       0.64      0.55      0.59        33\n",
            "           3       0.68      0.60      0.63        42\n",
            "           4       0.51      0.56      0.54        39\n",
            "           5       0.53      0.51      0.52        39\n",
            "           6       0.50      0.60      0.54        42\n",
            "           7       0.47      0.51      0.49        43\n",
            "           8       0.75      0.73      0.74        41\n",
            "           9       0.24      0.30      0.26        44\n",
            "          10       0.64      0.64      0.64        44\n",
            "          11       0.53      0.64      0.58        44\n",
            "          12       0.54      0.68      0.60        38\n",
            "          13       0.40      0.44      0.42        43\n",
            "          14       0.38      0.52      0.44        42\n",
            "          15       0.41      0.38      0.40        45\n",
            "          16       0.65      0.40      0.50        42\n",
            "          17       0.45      0.44      0.45        45\n",
            "          18       0.41      0.38      0.40        45\n",
            "          19       0.57      0.78      0.66        37\n",
            "          20       0.52      0.26      0.35        42\n",
            "          21       0.60      0.73      0.66        41\n",
            "          22       0.55      0.60      0.58        68\n",
            "          23       0.50      0.58      0.54        36\n",
            "          24       0.71      0.57      0.63        42\n",
            "          25       0.47      0.32      0.38        44\n",
            "          26       0.39      0.33      0.36        40\n",
            "          27       0.79      0.75      0.77        44\n",
            "          28       0.53      0.51      0.52        39\n",
            "          29       0.55      0.63      0.59        43\n",
            "          30       0.50      0.29      0.36        42\n",
            "          31       0.57      0.68      0.62        41\n",
            "          32       0.36      0.23      0.28        39\n",
            "          33       0.21      0.13      0.16        38\n",
            "          34       0.34      0.39      0.36        41\n",
            "          35       0.43      0.46      0.45        41\n",
            "          36       0.58      0.60      0.59        42\n",
            "          37       0.80      0.56      0.66        43\n",
            "          38       0.22      0.26      0.24        42\n",
            "          39       0.50      0.58      0.54        33\n",
            "          40       0.39      0.33      0.36        42\n",
            "          41       0.33      0.04      0.07        24\n",
            "          42       0.24      0.42      0.31        43\n",
            "          43       0.50      0.62      0.55        39\n",
            "          44       0.16      0.21      0.19        42\n",
            "          45       0.36      0.38      0.37        42\n",
            "          46       0.42      0.31      0.36        42\n",
            "          47       0.29      0.26      0.28        34\n",
            "          48       0.81      0.69      0.75        32\n",
            "          49       0.44      0.53      0.48        40\n",
            "          50       0.41      0.30      0.35        46\n",
            "          51       0.57      0.52      0.55        44\n",
            "          52       0.74      0.91      0.81        43\n",
            "          53       0.55      0.50      0.52        44\n",
            "          54       0.35      0.33      0.34        45\n",
            "          55       0.66      0.50      0.57        42\n",
            "          56       0.34      0.58      0.43        43\n",
            "          57       0.64      0.75      0.69        36\n",
            "          58       0.45      0.56      0.50        43\n",
            "          59       0.92      0.69      0.79        35\n",
            "          60       0.54      0.77      0.64        44\n",
            "          61       0.71      0.76      0.74        42\n",
            "          62       0.67      0.57      0.62        42\n",
            "          63       0.80      0.41      0.54        39\n",
            "          64       0.57      0.69      0.62        36\n",
            "          65       0.47      0.31      0.38        29\n",
            "          66       0.38      0.42      0.40        36\n",
            "          67       0.34      0.40      0.37        43\n",
            "          68       0.56      0.61      0.59        44\n",
            "          69       0.38      0.42      0.40        48\n",
            "          70       0.39      0.36      0.37        45\n",
            "          71       0.37      0.44      0.41        36\n",
            "          72       0.21      0.26      0.23        43\n",
            "          73       0.48      0.52      0.50        44\n",
            "          74       0.53      0.63      0.58        41\n",
            "          75       0.12      0.17      0.14        47\n",
            "          76       0.88      0.67      0.76        42\n",
            "          77       0.77      0.63      0.70        38\n",
            "          78       0.44      0.55      0.49        40\n",
            "          79       0.42      0.52      0.46        44\n",
            "          80       0.49      0.54      0.52        46\n",
            "          81       0.63      0.50      0.56        44\n",
            "          82       0.19      0.14      0.16        43\n",
            "          83       0.53      0.49      0.51        41\n",
            "          84       0.50      0.47      0.48        30\n",
            "          85       0.54      0.50      0.52        38\n",
            "          86       0.54      0.61      0.57        44\n",
            "          87       0.31      0.44      0.36        41\n",
            "          88       0.61      0.56      0.58        45\n",
            "          89       0.42      0.57      0.48        42\n",
            "          90       0.48      0.50      0.49        42\n",
            "          91       0.29      0.50      0.37        38\n",
            "          92       0.23      0.28      0.25        46\n",
            "          93       0.30      0.33      0.31        42\n",
            "          94       0.13      0.12      0.13        40\n",
            "          95       0.40      0.21      0.28        38\n",
            "          96       0.53      0.50      0.51        38\n",
            "          97       0.30      0.33      0.31        43\n",
            "          98       0.24      0.30      0.27        43\n",
            "          99       0.62      0.65      0.63        40\n",
            "         100       0.38      0.38      0.38        40\n",
            "         101       0.29      0.40      0.33        43\n",
            "         102       0.54      0.83      0.66        46\n",
            "         103       0.72      0.50      0.59        42\n",
            "         104       0.32      0.29      0.31        41\n",
            "         105       0.78      0.71      0.74        45\n",
            "         106       0.47      0.53      0.50        43\n",
            "         107       0.75      0.75      0.75        40\n",
            "         108       0.11      0.12      0.12        32\n",
            "         109       0.44      0.46      0.45        46\n",
            "         110       0.68      0.45      0.54        42\n",
            "         111       0.26      0.17      0.20        42\n",
            "         112       0.33      0.13      0.19        39\n",
            "         113       0.26      0.42      0.32        45\n",
            "         114       0.55      0.31      0.39        39\n",
            "         115       0.37      0.38      0.38        34\n",
            "         116       0.46      0.49      0.47        35\n",
            "         117       0.42      0.34      0.38        41\n",
            "         118       0.17      0.10      0.12        42\n",
            "         119       0.53      0.44      0.48        43\n",
            "         120       0.40      0.56      0.47        41\n",
            "         121       0.29      0.25      0.27        44\n",
            "         122       0.41      0.46      0.44        41\n",
            "         123       0.49      0.45      0.47        42\n",
            "         124       0.31      0.41      0.35        44\n",
            "         125       0.15      0.12      0.13        41\n",
            "         126       0.21      0.15      0.17        41\n",
            "         127       0.38      0.42      0.40        38\n",
            "         128       0.35      0.33      0.34        40\n",
            "         129       0.51      0.56      0.53        36\n",
            "         130       0.26      0.31      0.28        42\n",
            "         131       0.53      0.46      0.49        39\n",
            "         132       0.53      0.54      0.54        35\n",
            "         133       0.43      0.38      0.41        34\n",
            "         134       0.43      0.41      0.42        46\n",
            "         135       0.35      0.32      0.33        44\n",
            "         136       0.44      0.38      0.41        32\n",
            "         137       0.50      0.58      0.54        43\n",
            "         138       0.48      0.31      0.38        35\n",
            "         139       0.53      0.40      0.46        42\n",
            "         140       0.62      0.43      0.51        37\n",
            "         141       0.34      0.40      0.37        40\n",
            "         142       0.61      0.45      0.52        42\n",
            "         143       0.55      0.49      0.52        43\n",
            "         144       0.53      0.41      0.47        41\n",
            "         145       0.52      0.39      0.44        44\n",
            "         146       0.33      0.38      0.35        40\n",
            "         147       0.43      0.51      0.47        39\n",
            "         148       0.42      0.41      0.42        46\n",
            "         149       0.54      0.73      0.62        37\n",
            "         150       0.31      0.23      0.26        44\n",
            "         151       0.57      0.59      0.58        44\n",
            "         152       0.36      0.45      0.40        44\n",
            "         153       0.78      0.86      0.82        36\n",
            "         154       0.20      0.16      0.18        43\n",
            "         155       0.52      0.43      0.47        37\n",
            "         156       0.50      0.32      0.39        44\n",
            "         157       0.38      0.34      0.36        29\n",
            "         158       0.39      0.27      0.32        45\n",
            "         159       0.29      0.32      0.30        41\n",
            "         160       0.36      0.24      0.29        38\n",
            "         161       0.55      0.53      0.54        40\n",
            "         162       0.46      0.50      0.48        38\n",
            "         163       0.37      0.36      0.36        39\n",
            "         164       0.56      0.67      0.61        42\n",
            "         165       0.34      0.37      0.36        35\n",
            "         166       0.36      0.31      0.33        45\n",
            "         167       0.15      0.11      0.13        44\n",
            "         168       0.37      0.42      0.39        43\n",
            "         169       0.46      0.27      0.34        44\n",
            "         170       0.33      0.42      0.37        43\n",
            "         171       0.44      0.35      0.39        40\n",
            "         172       0.51      0.57      0.54        37\n",
            "         173       0.45      0.42      0.43        48\n",
            "         174       0.33      0.29      0.31        45\n",
            "         175       0.60      0.56      0.58        43\n",
            "         176       0.83      0.67      0.74        45\n",
            "         177       0.44      0.49      0.46        45\n",
            "         178       0.29      0.25      0.27        40\n",
            "         179       0.63      0.45      0.53        42\n",
            "         180       0.74      0.60      0.67        43\n",
            "         181       0.59      0.38      0.46        42\n",
            "         182       0.41      0.41      0.41        44\n",
            "         183       0.46      0.44      0.45        39\n",
            "         184       0.61      0.64      0.62        44\n",
            "         185       0.33      0.44      0.38        41\n",
            "         186       0.42      0.24      0.31        41\n",
            "         187       0.30      0.68      0.41        38\n",
            "         188       0.54      0.65      0.59        40\n",
            "         189       0.67      0.41      0.51        39\n",
            "         190       0.54      0.33      0.41        43\n",
            "         191       0.41      0.38      0.40        45\n",
            "         192       0.28      0.41      0.33        41\n",
            "         193       0.38      0.50      0.43        42\n",
            "         194       0.43      0.43      0.43        46\n",
            "         195       0.71      0.81      0.76        27\n",
            "\n",
            "    accuracy                           0.45      8041\n",
            "   macro avg       0.46      0.45      0.45      8041\n",
            "weighted avg       0.46      0.45      0.45      8041\n",
            "\n",
            "Accuracy =  0.453426190772292\n"
          ],
          "name": "stdout"
        }
      ]
    },
    {
      "cell_type": "markdown",
      "metadata": {
        "id": "qV98TJeGjlyW",
        "colab_type": "text"
      },
      "source": [
        "# Followed below steps:\n",
        "1.  How to use pre-train model\n",
        "  *   VGG19\n",
        "  *   Add fully-connected layers \n",
        "2.  Define the cost function in keras\n",
        "  *   Loss\n",
        "  *   Optimizer \n",
        "3.  Define the input data \n",
        "  *   train_generator, test_generator\n",
        "\n",
        "# Key Observations:\n",
        "*   Model is slightly overfitting: high accuracy on the training data, relatively low accuracy on the testing data.\n",
        "*   Pre-train model: 15 epochs; fine-tune model: 30 epochs. \n",
        "*   Evaluated model performance using confusion matrix and accuracy score metrics, overall generated  good results. \n",
        "*   Accuracy increases after each iteration, achieved accuracy of 82.57% after 30 epochs. Val_acc improved from 0.45181 to 0.45330.\n",
        "\n",
        "\n"
      ]
    }
  ]
}