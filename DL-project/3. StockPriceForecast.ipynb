{
  "nbformat": 4,
  "nbformat_minor": 0,
  "metadata": {
    "colab": {
      "name": "3. StockPriceForecast.ipynb",
      "version": "0.3.2",
      "provenance": [],
      "collapsed_sections": []
    },
    "kernelspec": {
      "display_name": "Python 3",
      "language": "python",
      "name": "python3"
    },
    "accelerator": "GPU"
  },
  "cells": [
    {
      "cell_type": "code",
      "metadata": {
        "id": "NKTP5NRSAW4J",
        "colab_type": "code",
        "outputId": "c97ca684-9304-4a10-8827-26957a737515",
        "colab": {
          "base_uri": "https://localhost:8080/",
          "height": 104
        }
      },
      "source": [
        "import os\n",
        "import sys\n",
        "import pandas as pd\n",
        "import numpy as np \n",
        "import math\n",
        "from sklearn.preprocessing import MinMaxScaler\n",
        "from sklearn.metrics import mean_squared_error\n",
        "from sklearn.model_selection import train_test_split\n",
        "import tensorflow as tf\n",
        "\n",
        "print(\"OS: \", sys.platform)\n",
        "print(\"Python: \", sys.version)\n",
        "print(\"Tensorflow: \", tf.__version__)\n",
        "print(\"Numpy: \", np.__version__)\n",
        "\n",
        "%load_ext autoreload\n",
        "%autoreload 2"
      ],
      "execution_count": 1,
      "outputs": [
        {
          "output_type": "stream",
          "text": [
            "OS:  linux\n",
            "Python:  3.6.8 (default, Jan 14 2019, 11:02:34) \n",
            "[GCC 8.0.1 20180414 (experimental) [trunk revision 259383]]\n",
            "Tensorflow:  1.14.0\n",
            "Numpy:  1.16.4\n"
          ],
          "name": "stdout"
        }
      ]
    },
    {
      "cell_type": "markdown",
      "metadata": {
        "id": "hQFhti32AW4S",
        "colab_type": "text"
      },
      "source": [
        "### Data"
      ]
    },
    {
      "cell_type": "code",
      "metadata": {
        "id": "Pi8HFO0mBkgp",
        "colab_type": "code",
        "outputId": "b5ac199b-f699-484c-e39d-d5f87d97f5aa",
        "colab": {
          "base_uri": "https://localhost:8080/",
          "height": 208
        }
      },
      "source": [
        "!wget https://raw.githubusercontent.com/miguelgfierro/sciblog_support/master/Time_Series_Forecasting_of_Stock_Price/data/MSFT_2012_2017.csv"
      ],
      "execution_count": 2,
      "outputs": [
        {
          "output_type": "stream",
          "text": [
            "--2019-08-04 18:46:08--  https://raw.githubusercontent.com/miguelgfierro/sciblog_support/master/Time_Series_Forecasting_of_Stock_Price/data/MSFT_2012_2017.csv\n",
            "Resolving raw.githubusercontent.com (raw.githubusercontent.com)... 151.101.0.133, 151.101.64.133, 151.101.128.133, ...\n",
            "Connecting to raw.githubusercontent.com (raw.githubusercontent.com)|151.101.0.133|:443... connected.\n",
            "HTTP request sent, awaiting response... 200 OK\n",
            "Length: 105688 (103K) [text/plain]\n",
            "Saving to: ‘MSFT_2012_2017.csv.3’\n",
            "\n",
            "\rMSFT_2012_2017.csv.   0%[                    ]       0  --.-KB/s               \rMSFT_2012_2017.csv. 100%[===================>] 103.21K  --.-KB/s    in 0.04s   \n",
            "\n",
            "2019-08-04 18:46:08 (2.76 MB/s) - ‘MSFT_2012_2017.csv.3’ saved [105688/105688]\n",
            "\n"
          ],
          "name": "stdout"
        }
      ]
    },
    {
      "cell_type": "code",
      "metadata": {
        "id": "PD7Xh-ufAW4S",
        "colab_type": "code",
        "colab": {}
      },
      "source": [
        "DATA = os.path.join('./', 'MSFT_2012_2017.csv')\n",
        "EPOCHS = 10\n",
        "TEST_SIZE = 0.3\n",
        "TIME_AHEAD = 1 #prediction step\n",
        "BATCH_SIZE = 1\n",
        "UNITS = 10"
      ],
      "execution_count": 0,
      "outputs": []
    },
    {
      "cell_type": "code",
      "metadata": {
        "id": "CDd7OfQO8ony",
        "colab_type": "code",
        "colab": {}
      },
      "source": [
        "#SEQUENCE = 10  #tune the hyper parameter, change sequence length, experiment with 10, 20, 30"
      ],
      "execution_count": 0,
      "outputs": []
    },
    {
      "cell_type": "code",
      "metadata": {
        "id": "NZoaa8s67_2g",
        "colab_type": "code",
        "colab": {}
      },
      "source": [
        "#SEQUENCE = 20 #tune the hyper parameter, change sequence length, experiment with 10, 20, 30"
      ],
      "execution_count": 0,
      "outputs": []
    },
    {
      "cell_type": "code",
      "metadata": {
        "id": "VswPawI28PHg",
        "colab_type": "code",
        "colab": {}
      },
      "source": [
        "SEQUENCE = 30  #tune the hyper parameter, change sequence length, experiment with 10, 20, 30"
      ],
      "execution_count": 0,
      "outputs": []
    },
    {
      "cell_type": "code",
      "metadata": {
        "id": "MzaqWtJMAW4W",
        "colab_type": "code",
        "outputId": "d044e574-41a2-484e-dde0-b536a236b860",
        "colab": {
          "base_uri": "https://localhost:8080/",
          "height": 219
        }
      },
      "source": [
        "df = pd.read_csv(DATA)\n",
        "df = df.drop(['Adj Close', 'Volume'], axis=1)\n",
        "print(df.shape)\n",
        "df.head()"
      ],
      "execution_count": 7,
      "outputs": [
        {
          "output_type": "stream",
          "text": [
            "(1509, 5)\n"
          ],
          "name": "stdout"
        },
        {
          "output_type": "execute_result",
          "data": {
            "text/html": [
              "<div>\n",
              "<style scoped>\n",
              "    .dataframe tbody tr th:only-of-type {\n",
              "        vertical-align: middle;\n",
              "    }\n",
              "\n",
              "    .dataframe tbody tr th {\n",
              "        vertical-align: top;\n",
              "    }\n",
              "\n",
              "    .dataframe thead th {\n",
              "        text-align: right;\n",
              "    }\n",
              "</style>\n",
              "<table border=\"1\" class=\"dataframe\">\n",
              "  <thead>\n",
              "    <tr style=\"text-align: right;\">\n",
              "      <th></th>\n",
              "      <th>Date</th>\n",
              "      <th>Open</th>\n",
              "      <th>High</th>\n",
              "      <th>Low</th>\n",
              "      <th>Close</th>\n",
              "    </tr>\n",
              "  </thead>\n",
              "  <tbody>\n",
              "    <tr>\n",
              "      <th>0</th>\n",
              "      <td>2012-01-03</td>\n",
              "      <td>26.549999</td>\n",
              "      <td>26.959999</td>\n",
              "      <td>26.389999</td>\n",
              "      <td>26.770000</td>\n",
              "    </tr>\n",
              "    <tr>\n",
              "      <th>1</th>\n",
              "      <td>2012-01-04</td>\n",
              "      <td>26.820000</td>\n",
              "      <td>27.469999</td>\n",
              "      <td>26.780001</td>\n",
              "      <td>27.400000</td>\n",
              "    </tr>\n",
              "    <tr>\n",
              "      <th>2</th>\n",
              "      <td>2012-01-05</td>\n",
              "      <td>27.379999</td>\n",
              "      <td>27.730000</td>\n",
              "      <td>27.290001</td>\n",
              "      <td>27.680000</td>\n",
              "    </tr>\n",
              "    <tr>\n",
              "      <th>3</th>\n",
              "      <td>2012-01-06</td>\n",
              "      <td>27.530001</td>\n",
              "      <td>28.190001</td>\n",
              "      <td>27.530001</td>\n",
              "      <td>28.110001</td>\n",
              "    </tr>\n",
              "    <tr>\n",
              "      <th>4</th>\n",
              "      <td>2012-01-09</td>\n",
              "      <td>28.049999</td>\n",
              "      <td>28.100000</td>\n",
              "      <td>27.719999</td>\n",
              "      <td>27.740000</td>\n",
              "    </tr>\n",
              "  </tbody>\n",
              "</table>\n",
              "</div>"
            ],
            "text/plain": [
              "         Date       Open       High        Low      Close\n",
              "0  2012-01-03  26.549999  26.959999  26.389999  26.770000\n",
              "1  2012-01-04  26.820000  27.469999  26.780001  27.400000\n",
              "2  2012-01-05  27.379999  27.730000  27.290001  27.680000\n",
              "3  2012-01-06  27.530001  28.190001  27.530001  28.110001\n",
              "4  2012-01-09  28.049999  28.100000  27.719999  27.740000"
            ]
          },
          "metadata": {
            "tags": []
          },
          "execution_count": 7
        }
      ]
    },
    {
      "cell_type": "code",
      "metadata": {
        "id": "G2GkwTejExJl",
        "colab_type": "code",
        "colab": {}
      },
      "source": [
        "# helper functions\n",
        "\n",
        "import matplotlib.pyplot as plt\n",
        "from IPython.display import SVG, display\n",
        "\n",
        "def plot_series(values, xlabel=None, ylabel=None, color='b', legend=None):\n",
        "    xx = np.arange(1, len(values) + 1, 1)\n",
        "    plt.plot(xx, values, color, label=legend)\n",
        "    plt.legend(loc = 'upper left')\n",
        "    plt.xlabel(xlabel)\n",
        "    plt.ylabel(ylabel)\n",
        "    plt.show()\n",
        "    \n",
        "\n",
        "def plot_series_prediction(true_values, train_predict, test_predict, time_ahead=1, title=None,\n",
        "                           xlabel=None, ylabel=None, color=['green','red','blue'], legend=[None,None,None]):    \n",
        "    TOOLS = 'pan,wheel_zoom,box_zoom,reset,save,box_select'\n",
        "    #x axis\n",
        "    xx = np.array(range(true_values.shape[0]))\n",
        "    xx1 = np.array(range(time_ahead,len(train_predict)+time_ahead))\n",
        "    xx2 = np.array(range(len(train_predict)+(time_ahead*2)+1,len(true_values)-1))\n",
        "    \n",
        "    #figure\n",
        "    plt.plot(xx, true_values.squeeze())\n",
        "    plt.plot(xx1, train_predict.squeeze())\n",
        "    plt.plot(xx2, test_predict.squeeze())\n",
        "    \n",
        "    plt.xlabel(xlabel)\n",
        "    plt.ylabel(ylabel)\n",
        "    plt.legend(['true', 'training set', 'test predict'], loc='upper left')\n",
        "    plt.show()\n",
        "\n",
        "    \n",
        "def to_1dimension(df, step_size):\n",
        "    X, y = [], []\n",
        "    for i in range(len(df)-step_size-1):\n",
        "        data = df[i:(i+step_size), 0]\n",
        "        X.append(data)\n",
        "        y.append(df[i + step_size, 0])\n",
        "    X, y = np.array(X), np.array(y)\n",
        "    X = np.reshape(X, (X.shape[0], 1, X.shape[1]))\n",
        "    return X, y"
      ],
      "execution_count": 0,
      "outputs": []
    },
    {
      "cell_type": "code",
      "metadata": {
        "id": "6Kbh98XgAW4a",
        "colab_type": "code",
        "outputId": "4fd0f3dc-76ef-4d6e-d5d1-4906fe572b24",
        "colab": {
          "base_uri": "https://localhost:8080/",
          "height": 301
        }
      },
      "source": [
        "mean_price = df.mean(axis = 1)\n",
        "print(mean_price.shape)\n",
        "plot_series(mean_price, xlabel='Days', ylabel='Mean value of Microsoft Stock', color='b', legend='Mean price')"
      ],
      "execution_count": 9,
      "outputs": [
        {
          "output_type": "stream",
          "text": [
            "(1509,)\n"
          ],
          "name": "stdout"
        },
        {
          "output_type": "display_data",
          "data": {
            "image/png": "[encoded data removed]",
            "text/plain": [
              "<Figure size 432x288 with 1 Axes>"
            ]
          },
          "metadata": {
            "tags": []
          }
        }
      ]
    },
    {
      "cell_type": "code",
      "metadata": {
        "id": "sWrAoL3eAW4e",
        "colab_type": "code",
        "colab": {}
      },
      "source": [
        "scaler = MinMaxScaler(feature_range=(0, 1)) #other typical scale values are -1,1\n",
        "mean_price = scaler.fit_transform(np.reshape(mean_price.values, (len(mean_price),1)))"
      ],
      "execution_count": 0,
      "outputs": []
    },
    {
      "cell_type": "code",
      "metadata": {
        "id": "jR7sNRKuAW4h",
        "colab_type": "code",
        "outputId": "55a9256e-007f-42bd-b5f4-d48990ddd1d3",
        "colab": {
          "base_uri": "https://localhost:8080/",
          "height": 52
        }
      },
      "source": [
        "train, test = train_test_split(mean_price, test_size=TEST_SIZE, shuffle=False)\n",
        "print(train.shape)\n",
        "print(test.shape)"
      ],
      "execution_count": 11,
      "outputs": [
        {
          "output_type": "stream",
          "text": [
            "(1056, 1)\n",
            "(453, 1)\n"
          ],
          "name": "stdout"
        }
      ]
    },
    {
      "cell_type": "code",
      "metadata": {
        "id": "T1qJ-ZR0AW4l",
        "colab_type": "code",
        "outputId": "0ad8c7cf-f5a6-49fe-fbed-48ba29d23f17",
        "colab": {
          "base_uri": "https://localhost:8080/",
          "height": 52
        }
      },
      "source": [
        "X_train, y_train = to_1dimension(train, TIME_AHEAD)\n",
        "X_test, y_test = to_1dimension(test, TIME_AHEAD)\n",
        "print(X_train.shape, y_train.shape)\n",
        "print(X_test.shape, y_test.shape)\n",
        "# (1054, 10, 1)-> (10,1)"
      ],
      "execution_count": 12,
      "outputs": [
        {
          "output_type": "stream",
          "text": [
            "(1054, 1, 1) (1054,)\n",
            "(451, 1, 1) (451,)\n"
          ],
          "name": "stdout"
        }
      ]
    },
    {
      "cell_type": "markdown",
      "metadata": {
        "id": "RPdxi7P-AW4q",
        "colab_type": "text"
      },
      "source": [
        "### LSTM"
      ]
    },
    {
      "cell_type": "code",
      "metadata": {
        "id": "DoCJeHvOAW4r",
        "colab_type": "code",
        "colab": {}
      },
      "source": [
        "def create_symbol(X, model_name='LSTM', units=10, activation='linear', time_ahead=1, dropout=True):\n",
        "    # with tf.variable_scope(\"RNN\"):\n",
        "    if model_name == 'LSTM':\n",
        "        if dropout:\n",
        "            cell = tf.contrib.rnn.DropoutWrapper(\n",
        "                              # tf.contrib.rnn.BasicLSTMCell(units, forget_bias=1.0), #LSTMCell(units),\n",
        "                              tf.contrib.rnn.LSTMCell(units),\n",
        "                              output_keep_prob=0.8)\n",
        "        else:\n",
        "            cell = tf.contrib.rnn.BasicLSTMCell(units, forget_bias=1.0) #LSTMCell(units)\n",
        "        \n",
        "        outputs, states = tf.nn.dynamic_rnn(cell, X, dtype=tf.float32)\n",
        "\n",
        "    elif model_name == 'GRU':\n",
        "        cell = tf.contrib.rnn.GRUCell(units)\n",
        "        outputs, states = tf.nn.dynamic_rnn(cell, X, dtype=tf.float32)\n",
        "    else:\n",
        "        raise ValueError(\"Wrong model name\")\n",
        "    sym = tf.layers.dense(outputs[-1], 1, activation=None, name='output') #activation=None (linear activation)\n",
        "    return sym"
      ],
      "execution_count": 0,
      "outputs": []
    },
    {
      "cell_type": "code",
      "metadata": {
        "id": "yBycdnCtAW4u",
        "colab_type": "code",
        "outputId": "e4eb15e0-603d-4372-d5db-d6e0db003429",
        "colab": {
          "base_uri": "https://localhost:8080/",
          "height": 627
        }
      },
      "source": [
        "tf.reset_default_graph()\n",
        "\n",
        "# Place-holders\n",
        "X = tf.placeholder(tf.float32, shape=[None, 1, TIME_AHEAD])\n",
        "y = tf.placeholder(tf.float32, shape=[None])\n",
        "\n",
        "# with sess.as_default():\n",
        "sym = create_symbol(X, model_name='LSTM', units=UNITS, time_ahead=TIME_AHEAD, dropout=False)\n",
        "loss = tf.reduce_mean(tf.squared_difference(sym, y)) #mse\n",
        "optimizer = tf.train.AdamOptimizer()\n",
        "model = optimizer.minimize(loss)\n",
        "\n",
        "init = tf.global_variables_initializer()\n",
        "sess = tf.Session()\n",
        "sess.run(init)\n",
        "\n",
        "# training\n",
        "for i in range(EPOCHS):\n",
        "    ii = 0\n",
        "    while(ii + BATCH_SIZE) <= len(X_train):\n",
        "        X_batch = X_train[ii:ii+BATCH_SIZE,:,:]\n",
        "        y_batch = y_train[ii:ii+BATCH_SIZE]\n",
        "        sess.run(model, feed_dict={X:X_batch, y:y_batch})\n",
        "        ii += BATCH_SIZE\n",
        "    loss_train = sess.run(loss, feed_dict={X: X_batch, y: y_batch})\n",
        "    print('Epoch {}/{}'.format(i+1, EPOCHS), ' Current loss: {}'.format(loss_train))\n",
        "\n",
        "y_guess = np.zeros(y_test.shape[0], dtype=np.float32)\n",
        "ii = 0\n",
        "while(ii + BATCH_SIZE) <= len(X_test):\n",
        "    X_batch = X_test[ii:ii+BATCH_SIZE,:,:]\n",
        "    output = sess.run(sym, feed_dict={X:X_batch})\n",
        "    y_guess[ii:ii+BATCH_SIZE] = output\n",
        "    ii += BATCH_SIZE"
      ],
      "execution_count": 14,
      "outputs": [
        {
          "output_type": "stream",
          "text": [
            "WARNING: Logging before flag parsing goes to stderr.\n",
            "W0804 18:47:05.711189 140135881111424 lazy_loader.py:50] \n",
            "The TensorFlow contrib module will not be included in TensorFlow 2.0.\n",
            "For more information, please see:\n",
            "  * https://github.com/tensorflow/community/blob/master/rfcs/20180907-contrib-sunset.md\n",
            "  * https://github.com/tensorflow/addons\n",
            "  * https://github.com/tensorflow/io (for I/O related ops)\n",
            "If you depend on functionality not listed there, please file an issue.\n",
            "\n",
            "W0804 18:47:05.712342 140135881111424 deprecation.py:323] From <ipython-input-13-4ff9cc759d59>:10: BasicLSTMCell.__init__ (from tensorflow.python.ops.rnn_cell_impl) is deprecated and will be removed in a future version.\n",
            "Instructions for updating:\n",
            "This class is equivalent as tf.keras.layers.LSTMCell, and will be replaced by that in Tensorflow 2.0.\n",
            "W0804 18:47:05.717006 140135881111424 deprecation.py:323] From <ipython-input-13-4ff9cc759d59>:12: dynamic_rnn (from tensorflow.python.ops.rnn) is deprecated and will be removed in a future version.\n",
            "Instructions for updating:\n",
            "Please use `keras.layers.RNN(cell)`, which is equivalent to this API\n",
            "W0804 18:47:05.785748 140135881111424 deprecation.py:506] From /usr/local/lib/python3.6/dist-packages/tensorflow/python/ops/init_ops.py:1251: calling VarianceScaling.__init__ (from tensorflow.python.ops.init_ops) with dtype is deprecated and will be removed in a future version.\n",
            "Instructions for updating:\n",
            "Call initializer instance with the dtype argument instead of passing it to the constructor\n",
            "W0804 18:47:05.795818 140135881111424 deprecation.py:506] From /usr/local/lib/python3.6/dist-packages/tensorflow/python/ops/rnn_cell_impl.py:738: calling Zeros.__init__ (from tensorflow.python.ops.init_ops) with dtype is deprecated and will be removed in a future version.\n",
            "Instructions for updating:\n",
            "Call initializer instance with the dtype argument instead of passing it to the constructor\n",
            "W0804 18:47:06.265744 140135881111424 deprecation.py:323] From <ipython-input-13-4ff9cc759d59>:19: dense (from tensorflow.python.layers.core) is deprecated and will be removed in a future version.\n",
            "Instructions for updating:\n",
            "Use keras.layers.dense instead.\n"
          ],
          "name": "stderr"
        },
        {
          "output_type": "stream",
          "text": [
            "Epoch 1/10  Current loss: 0.00013428191596176475\n",
            "Epoch 2/10  Current loss: 0.00011049763998016715\n",
            "Epoch 3/10  Current loss: 3.7966787203913555e-05\n",
            "Epoch 4/10  Current loss: 1.8876433387049474e-05\n",
            "Epoch 5/10  Current loss: 1.1504929716465995e-05\n",
            "Epoch 6/10  Current loss: 4.340766281529795e-06\n",
            "Epoch 7/10  Current loss: 1.5977863085936406e-06\n",
            "Epoch 8/10  Current loss: 8.576192840337171e-07\n",
            "Epoch 9/10  Current loss: 6.788850441807881e-07\n",
            "Epoch 10/10  Current loss: 6.737382136634551e-07\n"
          ],
          "name": "stdout"
        }
      ]
    },
    {
      "cell_type": "code",
      "metadata": {
        "id": "cYDjC1Y7AW48",
        "colab_type": "code",
        "outputId": "9532b1e8-09b8-46e7-8a25-c3f34f7bc9cc",
        "colab": {
          "base_uri": "https://localhost:8080/",
          "height": 35
        }
      },
      "source": [
        "y_test_inv = scaler.inverse_transform([y_test])\n",
        "pred_test = scaler.inverse_transform([y_guess])\n",
        "score = math.sqrt(mean_squared_error(y_test_inv, pred_test))\n",
        "print('Test RMSE: %.2f' % (score))"
      ],
      "execution_count": 15,
      "outputs": [
        {
          "output_type": "stream",
          "text": [
            "Test RMSE: 2.02\n"
          ],
          "name": "stdout"
        }
      ]
    },
    {
      "cell_type": "markdown",
      "metadata": {
        "id": "w8DY0zcJ9eqH",
        "colab_type": "text"
      },
      "source": [
        "### Conclustion:\n",
        "\n",
        "According to the data we produced, larger squence length results in a relatively smaller number of Test RMSE.\n",
        "\n",
        "In this case, it means our model tends to have better performance."
      ]
    },
    {
      "cell_type": "code",
      "metadata": {
        "id": "jAIVdo0hAW5A",
        "colab_type": "code",
        "outputId": "835b338e-f5b4-4f59-b84a-c5325d54acfd",
        "colab": {
          "base_uri": "https://localhost:8080/",
          "height": 283
        }
      },
      "source": [
        "mean_price_inv = scaler.inverse_transform(mean_price)\n",
        "train_set = mean_price_inv[:X_train.shape[0]]\n",
        "plot_series_prediction(mean_price_inv, train_set, pred_test.T, time_ahead=TIME_AHEAD,\n",
        "                       title='LSTM prediction', xlabel='Days', ylabel='Value of Microsoft Stock', \n",
        "                       legend=['True value','Training set','Test prediction'])"
      ],
      "execution_count": 16,
      "outputs": [
        {
          "output_type": "display_data",
          "data": {
            "image/png": "[encoded data removed]",
            "text/plain": [
              "<Figure size 432x288 with 1 Axes>"
            ]
          },
          "metadata": {
            "tags": []
          }
        }
      ]
    }
  ]
}