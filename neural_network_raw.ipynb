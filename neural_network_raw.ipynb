{
  "nbformat": 4,
  "nbformat_minor": 0,
  "metadata": {
    "colab": {
      "name": "neural_network_raw.ipynb",
      "version": "0.3.2",
      "provenance": [],
      "collapsed_sections": []
    },
    "kernelspec": {
      "display_name": "Python 2",
      "language": "python",
      "name": "python2"
    }
  },
  "cells": [
    {
      "cell_type": "markdown",
      "metadata": {
        "id": "ICGZ4KqdDmDZ",
        "colab_type": "text"
      },
      "source": [
        "# Neural Network Example\n",
        "\n",
        "Build a 2-hidden layers fully connected neural network (a.k.a multilayer perceptron) with TensorFlow.\n",
        "\n",
        "- Author: Aymeric Damien\n",
        "- Project: https://github.com/aymericdamien/TensorFlow-Examples/"
      ]
    },
    {
      "cell_type": "markdown",
      "metadata": {
        "id": "kpU7dcPUDmDZ",
        "colab_type": "text"
      },
      "source": [
        "## Neural Network Overview\n",
        "\n",
        "<img src=\"http://cs231n.github.io/assets/nn1/neural_net2.jpeg\" alt=\"nn\" style=\"width: 400px;\"/>\n",
        "\n",
        "## MNIST Dataset Overview\n",
        "\n",
        "This example is using MNIST handwritten digits. The dataset contains 60,000 examples for training and 10,000 examples for testing. The digits have been size-normalized and centered in a fixed-size image (28x28 pixels) with values from 0 to 1. For simplicity, each image has been flattened and converted to a 1-D numpy array of 784 features (28*28).\n",
        "\n",
        "![MNIST Dataset](http://neuralnetworksanddeeplearning.com/images/mnist_100_digits.png)\n",
        "\n",
        "More info: http://yann.lecun.com/exdb/mnist/"
      ]
    },
    {
      "cell_type": "code",
      "metadata": {
        "id": "vlq4LP1YDmDa",
        "colab_type": "code",
        "outputId": "79eeba66-1849-4ef5-f9f0-e522164b14a7",
        "colab": {
          "base_uri": "https://localhost:8080/",
          "height": 540
        }
      },
      "source": [
        "from __future__ import print_function\n",
        "\n",
        "# Import MNIST data\n",
        "from tensorflow.examples.tutorials.mnist import input_data\n",
        "mnist = input_data.read_data_sets(\"/tmp/data/\", one_hot=True)\n",
        "\n",
        "import tensorflow as tf"
      ],
      "execution_count": 0,
      "outputs": [
        {
          "output_type": "stream",
          "text": [
            "WARNING:tensorflow:From <ipython-input-1-cf8086cdf0d8>:5: read_data_sets (from tensorflow.contrib.learn.python.learn.datasets.mnist) is deprecated and will be removed in a future version.\n",
            "Instructions for updating:\n",
            "Please use alternatives such as official/mnist/dataset.py from tensorflow/models.\n",
            "WARNING:tensorflow:From /usr/local/lib/python2.7/dist-packages/tensorflow/contrib/learn/python/learn/datasets/mnist.py:260: maybe_download (from tensorflow.contrib.learn.python.learn.datasets.base) is deprecated and will be removed in a future version.\n",
            "Instructions for updating:\n",
            "Please write your own downloading logic.\n",
            "WARNING:tensorflow:From /usr/local/lib/python2.7/dist-packages/tensorflow/contrib/learn/python/learn/datasets/base.py:252: wrapped_fn (from tensorflow.contrib.learn.python.learn.datasets.base) is deprecated and will be removed in a future version.\n",
            "Instructions for updating:\n",
            "Please use urllib or similar directly.\n",
            "Successfully downloaded train-images-idx3-ubyte.gz 9912422 bytes.\n",
            "WARNING:tensorflow:From /usr/local/lib/python2.7/dist-packages/tensorflow/contrib/learn/python/learn/datasets/mnist.py:262: extract_images (from tensorflow.contrib.learn.python.learn.datasets.mnist) is deprecated and will be removed in a future version.\n",
            "Instructions for updating:\n",
            "Please use tf.data to implement this functionality.\n",
            "Extracting /tmp/data/train-images-idx3-ubyte.gz\n",
            "Successfully downloaded train-labels-idx1-ubyte.gz 28881 bytes.\n",
            "WARNING:tensorflow:From /usr/local/lib/python2.7/dist-packages/tensorflow/contrib/learn/python/learn/datasets/mnist.py:267: extract_labels (from tensorflow.contrib.learn.python.learn.datasets.mnist) is deprecated and will be removed in a future version.\n",
            "Instructions for updating:\n",
            "Please use tf.data to implement this functionality.\n",
            "Extracting /tmp/data/train-labels-idx1-ubyte.gz\n",
            "WARNING:tensorflow:From /usr/local/lib/python2.7/dist-packages/tensorflow/contrib/learn/python/learn/datasets/mnist.py:110: dense_to_one_hot (from tensorflow.contrib.learn.python.learn.datasets.mnist) is deprecated and will be removed in a future version.\n",
            "Instructions for updating:\n",
            "Please use tf.one_hot on tensors.\n",
            "Successfully downloaded t10k-images-idx3-ubyte.gz 1648877 bytes.\n",
            "Extracting /tmp/data/t10k-images-idx3-ubyte.gz\n",
            "Successfully downloaded t10k-labels-idx1-ubyte.gz 4542 bytes.\n",
            "Extracting /tmp/data/t10k-labels-idx1-ubyte.gz\n",
            "WARNING:tensorflow:From /usr/local/lib/python2.7/dist-packages/tensorflow/contrib/learn/python/learn/datasets/mnist.py:290: __init__ (from tensorflow.contrib.learn.python.learn.datasets.mnist) is deprecated and will be removed in a future version.\n",
            "Instructions for updating:\n",
            "Please use alternatives such as official/mnist/dataset.py from tensorflow/models.\n"
          ],
          "name": "stdout"
        }
      ]
    },
    {
      "cell_type": "code",
      "metadata": {
        "id": "PMN_ZqxrDmDe",
        "colab_type": "code",
        "colab": {}
      },
      "source": [
        "# Parameters\n",
        "learning_rate = 0.1\n",
        "num_steps = 50000\n",
        "batch_size = 128\n",
        "display_step = 1000\n",
        "\n",
        "# Network Parameters\n",
        "n_hidden_1 = 256 # 1st layer number of neurons\n",
        "n_hidden_2 = 256 # 2nd layer number of neurons\n",
        "num_input = 784 # MNIST data input (img shape: 28*28)\n",
        "num_classes = 10 # MNIST total classes (0-9 digits)\n",
        "\n",
        "# tf Graph input\n",
        "X = tf.placeholder(\"float\", [None, num_input])\n",
        "Y = tf.placeholder(\"float\", [None, num_classes])"
      ],
      "execution_count": 0,
      "outputs": []
    },
    {
      "cell_type": "code",
      "metadata": {
        "id": "OcnmlepEDmDh",
        "colab_type": "code",
        "colab": {}
      },
      "source": [
        "# Store layers weight & bias\n",
        "weights = {\n",
        "    'h1': tf.Variable(tf.random_normal([num_input, n_hidden_1])),\n",
        "    'h2': tf.Variable(tf.random_normal([n_hidden_1, n_hidden_2])),\n",
        "    'out': tf.Variable(tf.random_normal([n_hidden_2, num_classes]))\n",
        "}\n",
        "biases = {\n",
        "    'b1': tf.Variable(tf.random_normal([n_hidden_1])),\n",
        "    'b2': tf.Variable(tf.random_normal([n_hidden_2])),\n",
        "    'out': tf.Variable(tf.random_normal([num_classes]))\n",
        "}"
      ],
      "execution_count": 0,
      "outputs": []
    },
    {
      "cell_type": "code",
      "metadata": {
        "id": "9PVmIxUhDmDj",
        "colab_type": "code",
        "colab": {}
      },
      "source": [
        "# Create model\n",
        "def neural_net(x):\n",
        "    # Hidden fully connected layer with 256 neurons\n",
        "    layer_1 = tf.add(tf.matmul(x, weights['h1']), biases['b1'])\n",
        "    # Hidden fully connected layer with 256 neurons\n",
        "    layer_2 = tf.add(tf.matmul(layer_1, weights['h2']), biases['b2'])\n",
        "    # Output fully connected layer with a neuron for each class\n",
        "    out_layer = tf.matmul(layer_2, weights['out']) + biases['out']\n",
        "    return out_layer"
      ],
      "execution_count": 0,
      "outputs": []
    },
    {
      "cell_type": "code",
      "metadata": {
        "id": "W2f6hRk5DmDl",
        "colab_type": "code",
        "outputId": "0fa022de-c5e7-453c-9051-dc1f9bb575d3",
        "colab": {
          "base_uri": "https://localhost:8080/",
          "height": 176
        }
      },
      "source": [
        "# Construct model\n",
        "logits = neural_net(X)\n",
        "\n",
        "# Define loss and optimizer\n",
        "loss_op = tf.reduce_mean(tf.nn.softmax_cross_entropy_with_logits(\n",
        "    logits=logits, labels=Y))\n",
        "optimizer = tf.train.AdamOptimizer(learning_rate=learning_rate)\n",
        "train_op = optimizer.minimize(loss_op)\n",
        "\n",
        "# Evaluate model (with test logits, for dropout to be disabled)\n",
        "correct_pred = tf.equal(tf.argmax(logits, 1), tf.argmax(Y, 1))  # return 1 if \n",
        "accuracy = tf.reduce_mean(tf.cast(correct_pred, tf.float32))\n",
        "\n",
        "# Initialize the variables (i.e. assign their default value)\n",
        "init = tf.global_variables_initializer()"
      ],
      "execution_count": 0,
      "outputs": [
        {
          "output_type": "stream",
          "text": [
            "WARNING:tensorflow:From <ipython-input-5-cb3b9328e93c>:5: softmax_cross_entropy_with_logits (from tensorflow.python.ops.nn_ops) is deprecated and will be removed in a future version.\n",
            "Instructions for updating:\n",
            "\n",
            "Future major versions of TensorFlow will allow gradients to flow\n",
            "into the labels input on backprop by default.\n",
            "\n",
            "See `tf.nn.softmax_cross_entropy_with_logits_v2`.\n",
            "\n"
          ],
          "name": "stdout"
        }
      ]
    },
    {
      "cell_type": "code",
      "metadata": {
        "id": "H0kWJVYlDmDo",
        "colab_type": "code",
        "outputId": "585a904f-267b-45ea-d3a2-140a66364f1f",
        "colab": {
          "base_uri": "https://localhost:8080/",
          "height": 936
        }
      },
      "source": [
        "# Start training\n",
        "with tf.Session() as sess:\n",
        "\n",
        "    # Run the initializer\n",
        "    sess.run(init)\n",
        "\n",
        "    for step in range(1, num_steps+1):\n",
        "        batch_x, batch_y = mnist.train.next_batch(batch_size)\n",
        "        # Run optimization op (backprop)\n",
        "        sess.run(train_op, feed_dict={X: batch_x, Y: batch_y})\n",
        "        if step % display_step == 0 or step == 1:\n",
        "            # Calculate batch loss and accuracy\n",
        "            loss, acc,pred = sess.run([loss_op, accuracy,correct_pred], feed_dict={X: batch_x,\n",
        "                                                                 Y: batch_y})\n",
        "            print(\"Step \" + str(step) + \", Minibatch Loss= \" + \\\n",
        "                  \"{:.4f}\".format(loss) + \", Training Accuracy= \" + \\\n",
        "                  \"{:.3f}\".format(acc))\n",
        "         \n",
        "    print(\"Optimization Finished!\")\n",
        "\n",
        "    # Calculate accuracy for MNIST test images\n",
        "    print(\"Testing Accuracy:\", \\\n",
        "        sess.run(accuracy, feed_dict={X: mnist.test.images,\n",
        "                                      Y: mnist.test.labels}))"
      ],
      "execution_count": 0,
      "outputs": [
        {
          "output_type": "stream",
          "text": [
            "Step 1, Minibatch Loss= 12523.6230, Training Accuracy= 0.273\n",
            "Step 1000, Minibatch Loss= 41.6313, Training Accuracy= 0.852\n",
            "Step 2000, Minibatch Loss= 39.0889, Training Accuracy= 0.875\n",
            "Step 3000, Minibatch Loss= 56.1723, Training Accuracy= 0.883\n",
            "Step 4000, Minibatch Loss= 329.3674, Training Accuracy= 0.891\n",
            "Step 5000, Minibatch Loss= 65.6423, Training Accuracy= 0.883\n",
            "Step 6000, Minibatch Loss= 87.1009, Training Accuracy= 0.844\n",
            "Step 7000, Minibatch Loss= 54.6912, Training Accuracy= 0.859\n",
            "Step 8000, Minibatch Loss= 78.2954, Training Accuracy= 0.883\n",
            "Step 9000, Minibatch Loss= 31.5959, Training Accuracy= 0.852\n",
            "Step 10000, Minibatch Loss= 24.1308, Training Accuracy= 0.906\n",
            "Step 11000, Minibatch Loss= 787.2377, Training Accuracy= 0.930\n",
            "Step 12000, Minibatch Loss= 121.3229, Training Accuracy= 0.922\n",
            "Step 13000, Minibatch Loss= 46.2099, Training Accuracy= 0.914\n",
            "Step 14000, Minibatch Loss= 10.1675, Training Accuracy= 0.969\n",
            "Step 15000, Minibatch Loss= 70.3637, Training Accuracy= 0.859\n",
            "Step 16000, Minibatch Loss= 18.7433, Training Accuracy= 0.914\n",
            "Step 17000, Minibatch Loss= 76.5039, Training Accuracy= 0.883\n",
            "Step 18000, Minibatch Loss= 382.5366, Training Accuracy= 0.875\n",
            "Step 19000, Minibatch Loss= 147.3514, Training Accuracy= 0.883\n",
            "Step 20000, Minibatch Loss= 124.0746, Training Accuracy= 0.883\n",
            "Step 21000, Minibatch Loss= 95.8990, Training Accuracy= 0.883\n",
            "Step 22000, Minibatch Loss= 72.3022, Training Accuracy= 0.875\n",
            "Step 23000, Minibatch Loss= 32.2247, Training Accuracy= 0.922\n",
            "Step 24000, Minibatch Loss= 1889.3500, Training Accuracy= 0.922\n",
            "Step 25000, Minibatch Loss= 336.1833, Training Accuracy= 0.891\n",
            "Step 26000, Minibatch Loss= 332.3582, Training Accuracy= 0.867\n",
            "Step 27000, Minibatch Loss= 24.5633, Training Accuracy= 0.922\n",
            "Step 28000, Minibatch Loss= 20.5743, Training Accuracy= 0.914\n",
            "Step 29000, Minibatch Loss= 38.3208, Training Accuracy= 0.914\n",
            "Step 30000, Minibatch Loss= 66.2471, Training Accuracy= 0.859\n",
            "Step 31000, Minibatch Loss= 105.4822, Training Accuracy= 0.875\n",
            "Step 32000, Minibatch Loss= 287.1389, Training Accuracy= 0.891\n",
            "Step 33000, Minibatch Loss= 68.7744, Training Accuracy= 0.930\n",
            "Step 34000, Minibatch Loss= 54.2218, Training Accuracy= 0.891\n",
            "Step 35000, Minibatch Loss= 60.7750, Training Accuracy= 0.875\n",
            "Step 36000, Minibatch Loss= 22.1158, Training Accuracy= 0.938\n",
            "Step 37000, Minibatch Loss= 240.9540, Training Accuracy= 0.898\n",
            "Step 38000, Minibatch Loss= 352.3680, Training Accuracy= 0.945\n",
            "Step 39000, Minibatch Loss= 25.8973, Training Accuracy= 0.961\n",
            "Step 40000, Minibatch Loss= 30.1562, Training Accuracy= 0.914\n",
            "Step 41000, Minibatch Loss= 65.4518, Training Accuracy= 0.867\n",
            "Step 42000, Minibatch Loss= 89.9717, Training Accuracy= 0.828\n",
            "Step 43000, Minibatch Loss= 60.7772, Training Accuracy= 0.938\n",
            "Step 44000, Minibatch Loss= 177.5100, Training Accuracy= 0.914\n",
            "Step 45000, Minibatch Loss= 134.4671, Training Accuracy= 0.906\n",
            "Step 46000, Minibatch Loss= 52.7114, Training Accuracy= 0.891\n",
            "Step 47000, Minibatch Loss= 118.5728, Training Accuracy= 0.898\n",
            "Step 48000, Minibatch Loss= 83.8395, Training Accuracy= 0.898\n",
            "Step 49000, Minibatch Loss= 37.6021, Training Accuracy= 0.891\n",
            "Step 50000, Minibatch Loss= 2189.7378, Training Accuracy= 0.922\n",
            "Optimization Finished!\n",
            "Testing Accuracy: 0.8805\n"
          ],
          "name": "stdout"
        }
      ]
    },
    {
      "cell_type": "code",
      "metadata": {
        "id": "TxfyEXSnmlbt",
        "colab_type": "code",
        "colab": {}
      },
      "source": [
        ""
      ],
      "execution_count": 0,
      "outputs": []
    },
    {
      "cell_type": "code",
      "metadata": {
        "id": "C_X75WvVwbw6",
        "colab_type": "code",
        "colab": {}
      },
      "source": [
        ""
      ],
      "execution_count": 0,
      "outputs": []
    }
  ]
}